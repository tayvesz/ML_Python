{
 "cells": [
  {
   "cell_type": "code",
   "execution_count": 1,
   "metadata": {
    "collapsed": true
   },
   "outputs": [],
   "source": [
    "import pandas as pd\n",
    "import numpy as np\n",
    "import matplotlib.pyplot as plt"
   ]
  },
  {
   "cell_type": "markdown",
   "metadata": {
    "slideshow": {
     "slide_type": "slide"
    }
   },
   "source": [
    "# A. Data preparation"
   ]
  },
  {
   "cell_type": "markdown",
   "metadata": {},
   "source": [
    "# 1. Trainging Data"
   ]
  },
  {
   "cell_type": "markdown",
   "metadata": {},
   "source": [
    "## 1.1. Demographic"
   ]
  },
  {
   "cell_type": "code",
   "execution_count": 2,
   "metadata": {
    "collapsed": false
   },
   "outputs": [
    {
     "data": {
      "text/html": [
       "<div>\n",
       "<table border=\"1\" class=\"dataframe\">\n",
       "  <thead>\n",
       "    <tr style=\"text-align: right;\">\n",
       "      <th></th>\n",
       "      <th>Client ID</th>\n",
       "      <th>Age</th>\n",
       "      <th>Gender \n",
       "1: Female, 2: Male</th>\n",
       "      <th>County</th>\n",
       "      <th>Income Group</th>\n",
       "      <th>Unnamed: 5</th>\n",
       "    </tr>\n",
       "  </thead>\n",
       "  <tbody>\n",
       "    <tr>\n",
       "      <th>0</th>\n",
       "      <td>1</td>\n",
       "      <td>36</td>\n",
       "      <td>1</td>\n",
       "      <td>Cork</td>\n",
       "      <td>10001 - 40000</td>\n",
       "      <td>NaN</td>\n",
       "    </tr>\n",
       "    <tr>\n",
       "      <th>1</th>\n",
       "      <td>2</td>\n",
       "      <td>43</td>\n",
       "      <td>1</td>\n",
       "      <td>Cavan</td>\n",
       "      <td>0 - 10000</td>\n",
       "      <td>NaN</td>\n",
       "    </tr>\n",
       "  </tbody>\n",
       "</table>\n",
       "</div>"
      ],
      "text/plain": [
       "   Client ID  Age Gender \\n1: Female, 2: Male County   Income Group  \\\n",
       "0          1   36                           1   Cork  10001 - 40000   \n",
       "1          2   43                           1  Cavan      0 - 10000   \n",
       "\n",
       "   Unnamed: 5  \n",
       "0         NaN  \n",
       "1         NaN  "
      ]
     },
     "execution_count": 2,
     "metadata": {},
     "output_type": "execute_result"
    }
   ],
   "source": [
    "Demog = pd.read_csv('Model Build - Demographics.csv', sep = ',',encoding='latin-1')\n",
    "Demog.head(2)"
   ]
  },
  {
   "cell_type": "code",
   "execution_count": 3,
   "metadata": {
    "collapsed": false
   },
   "outputs": [
    {
     "name": "stdout",
     "output_type": "stream",
     "text": [
      "<class 'pandas.core.frame.DataFrame'>\n",
      "RangeIndex: 10004 entries, 0 to 10003\n",
      "Data columns (total 5 columns):\n",
      "ClientID       10004 non-null int64\n",
      "Age            10004 non-null int64\n",
      "Sex            10004 non-null object\n",
      "County         10001 non-null object\n",
      "IncomeGroup    10004 non-null object\n",
      "dtypes: int64(2), object(3)\n",
      "memory usage: 390.9+ KB\n",
      "\n",
      "\n",
      "           ClientID           Age\n",
      "count  10004.000000  10004.000000\n",
      "mean    4999.361755     44.392043\n",
      "std     2887.051613     15.202030\n",
      "min        1.000000     20.000000\n",
      "25%     2499.750000     32.000000\n",
      "50%     4998.500000     44.000000\n",
      "75%     7499.250000     57.000000\n",
      "max    10000.000000    200.000000\n",
      "\n",
      "\n",
      "ClientID       10004\n",
      "Age            10004\n",
      "Sex            10004\n",
      "County         10001\n",
      "IncomeGroup    10004\n",
      "dtype: int64\n"
     ]
    }
   ],
   "source": [
    "Demog.drop('Unnamed: 5',axis=1,inplace=True)\n",
    "Demog.columns = ['ClientID','Age','Sex','County','IncomeGroup']\n",
    "\n",
    "Demog.info()\n",
    "print('\\n')\n",
    "print(Demog.describe())\n",
    "print('\\n')\n",
    "print(Demog.count())"
   ]
  },
  {
   "cell_type": "markdown",
   "metadata": {},
   "source": [
    "** There are 3 missing values in the \"County\" variable\" **"
   ]
  },
  {
   "cell_type": "markdown",
   "metadata": {},
   "source": [
    "### 1.1.1. Re-encoding the gender variable as follows:\n",
    "- Female: 1\n",
    "- Male: 0"
   ]
  },
  {
   "cell_type": "markdown",
   "metadata": {},
   "source": [
    "### a) Before the re-encoding"
   ]
  },
  {
   "cell_type": "code",
   "execution_count": 4,
   "metadata": {
    "collapsed": false
   },
   "outputs": [
    {
     "name": "stdout",
     "output_type": "stream",
     "text": [
      "1         5088\n",
      "0         4907\n",
      "M            3\n",
      "fem          2\n",
      "Male         1\n",
      "female       1\n",
      "m            1\n",
      "f            1\n",
      "Name: Sex, dtype: int64\n",
      "['1' '0' 'M' 'Male' 'f' 'fem' 'm' 'female']\n"
     ]
    }
   ],
   "source": [
    "print(Demog.Sex.value_counts())\n",
    "print(Demog.Sex.unique())"
   ]
  },
  {
   "cell_type": "code",
   "execution_count": 5,
   "metadata": {
    "collapsed": false
   },
   "outputs": [],
   "source": [
    "# Female:1\n",
    "# Male: 0\n",
    "t = Demog.Sex.replace('fem',1).replace('female',1).replace('f',1).replace('1',1)\n",
    "t = t.replace('M',0).replace('m',0).replace('Male',0).replace('0',0)\n",
    "Demog.Sex = t"
   ]
  },
  {
   "cell_type": "markdown",
   "metadata": {},
   "source": [
    "### b) After the re-encoding\n"
   ]
  },
  {
   "cell_type": "code",
   "execution_count": 6,
   "metadata": {
    "collapsed": false
   },
   "outputs": [
    {
     "name": "stdout",
     "output_type": "stream",
     "text": [
      "1    5092\n",
      "0    4912\n",
      "Name: Sex, dtype: int64\n",
      "[1 0]\n"
     ]
    }
   ],
   "source": [
    "print(Demog.Sex.value_counts())\n",
    "print(Demog.Sex.unique())"
   ]
  },
  {
   "cell_type": "markdown",
   "metadata": {},
   "source": [
    "### 1.1.2. Cleaning the IncomeGroup variable"
   ]
  },
  {
   "cell_type": "code",
   "execution_count": 7,
   "metadata": {
    "collapsed": false
   },
   "outputs": [
    {
     "data": {
      "text/plain": [
       "10001 - 40000     5583\n",
       "60001 - 100000    1736\n",
       "40001 - 60000     1175\n",
       "100000+           1135\n",
       "0 - 10000          370\n",
       "10001 ? 40000        2\n",
       "10001 ?. 40000       1\n",
       "10002 - 40000        1\n",
       "0  ? 10000           1\n",
       "Name: IncomeGroup, dtype: int64"
      ]
     },
     "execution_count": 7,
     "metadata": {},
     "output_type": "execute_result"
    }
   ],
   "source": [
    "Demog.IncomeGroup.value_counts()"
   ]
  },
  {
   "cell_type": "code",
   "execution_count": 8,
   "metadata": {
    "collapsed": false
   },
   "outputs": [],
   "source": [
    "t = Demog.IncomeGroup.replace('10001 ?. 40000','10001 - 40000').replace('10001 ? 40000','10001 - 40000')\n",
    "t = t.replace('0  ? 10000','0 - 10000').replace('10002 - 40000','10001 - 40000')"
   ]
  },
  {
   "cell_type": "code",
   "execution_count": 9,
   "metadata": {
    "collapsed": false
   },
   "outputs": [
    {
     "data": {
      "text/plain": [
       "10001 - 40000     5587\n",
       "60001 - 100000    1736\n",
       "40001 - 60000     1175\n",
       "100000+           1135\n",
       "0 - 10000          371\n",
       "Name: IncomeGroup, dtype: int64"
      ]
     },
     "execution_count": 9,
     "metadata": {},
     "output_type": "execute_result"
    }
   ],
   "source": [
    "Demog.IncomeGroup = t\n",
    "Demog.IncomeGroup.value_counts()"
   ]
  },
  {
   "cell_type": "markdown",
   "metadata": {
    "collapsed": false
   },
   "source": [
    "### 1.1.3. Dropping the rows having some missing values of County variable\n",
    "\n",
    "Indeed, there are only 3 missing values on a total of around 10000 observations. Consequently, we decide to drop the corresponding rows"
   ]
  },
  {
   "cell_type": "code",
   "execution_count": 10,
   "metadata": {
    "collapsed": false
   },
   "outputs": [
    {
     "data": {
      "text/plain": [
       "[9796, 9892, 9968]"
      ]
     },
     "execution_count": 10,
     "metadata": {},
     "output_type": "execute_result"
    }
   ],
   "source": [
    "ClientID_County_Invalid = list(Demog[Demog.County.isnull()].ClientID)\n",
    "ClientID_County_Invalid"
   ]
  },
  {
   "cell_type": "markdown",
   "metadata": {},
   "source": [
    "### However, some County values contains some number (e.g. Dublin 4). Let us remove these number using the following function"
   ]
  },
  {
   "cell_type": "code",
   "execution_count": 11,
   "metadata": {
    "collapsed": true
   },
   "outputs": [],
   "source": [
    "demIntFromString = lambda x : (''.join([c for c in str(x) if not c.isdigit()])).strip()"
   ]
  },
  {
   "cell_type": "code",
   "execution_count": 12,
   "metadata": {
    "collapsed": false
   },
   "outputs": [],
   "source": [
    "Demog.County = Demog.County.map(demIntFromString)"
   ]
  },
  {
   "cell_type": "code",
   "execution_count": 13,
   "metadata": {
    "collapsed": false
   },
   "outputs": [
    {
     "data": {
      "text/plain": [
       "[7935, 8099, 8201]"
      ]
     },
     "execution_count": 13,
     "metadata": {},
     "output_type": "execute_result"
    }
   ],
   "source": [
    "ClientID_County_Invalid = list(Demog[Demog.County == ''].ClientID)\n",
    "ClientID_County_Invalid"
   ]
  },
  {
   "cell_type": "markdown",
   "metadata": {
    "collapsed": true
   },
   "source": [
    "### 1.1.4. Outliers: Age"
   ]
  },
  {
   "cell_type": "code",
   "execution_count": 14,
   "metadata": {
    "collapsed": false
   },
   "outputs": [
    {
     "name": "stdout",
     "output_type": "stream",
     "text": [
      "      ClientID  Age  Sex     County     IncomeGroup\n",
      "1898      1897  200    1  Waterford   10001 - 40000\n",
      "3898      3895  200    1       Cork  60001 - 100000\n",
      "5898      5895  200    1     Dublin         100000+\n",
      "7898      7895  200    1       Cork   10001 - 40000\n",
      "9898      9895  200    1     Dublin  60001 - 100000\n",
      "[1897, 3895, 5895, 7895, 9895]\n"
     ]
    }
   ],
   "source": [
    "print(Demog[Demog.Age>150])\n",
    "ClientID_Age_Invalid = list(Demog[Demog.Age>150].ClientID)\n",
    "print(ClientID_Age_Invalid)"
   ]
  },
  {
   "cell_type": "markdown",
   "metadata": {
    "collapsed": false
   },
   "source": [
    "## 1.2. Loan data"
   ]
  },
  {
   "cell_type": "code",
   "execution_count": 15,
   "metadata": {
    "collapsed": false
   },
   "outputs": [
    {
     "data": {
      "text/html": [
       "<div>\n",
       "<table border=\"1\" class=\"dataframe\">\n",
       "  <thead>\n",
       "    <tr style=\"text-align: right;\">\n",
       "      <th></th>\n",
       "      <th>Client ID</th>\n",
       "      <th>Held Loan previously</th>\n",
       "    </tr>\n",
       "  </thead>\n",
       "  <tbody>\n",
       "    <tr>\n",
       "      <th>0</th>\n",
       "      <td>1</td>\n",
       "      <td>1</td>\n",
       "    </tr>\n",
       "    <tr>\n",
       "      <th>1</th>\n",
       "      <td>2</td>\n",
       "      <td>0</td>\n",
       "    </tr>\n",
       "  </tbody>\n",
       "</table>\n",
       "</div>"
      ],
      "text/plain": [
       "   Client ID Held Loan previously\n",
       "0          1                    1\n",
       "1          2                    0"
      ]
     },
     "execution_count": 15,
     "metadata": {},
     "output_type": "execute_result"
    }
   ],
   "source": [
    "Loan = pd.read_csv('Model Build - Previous Loan Holdings.csv', sep = ',',encoding='latin-1')\n",
    "Loan.head(2)"
   ]
  },
  {
   "cell_type": "code",
   "execution_count": 16,
   "metadata": {
    "collapsed": false
   },
   "outputs": [
    {
     "name": "stdout",
     "output_type": "stream",
     "text": [
      "<class 'pandas.core.frame.DataFrame'>\n",
      "RangeIndex: 10005 entries, 0 to 10004\n",
      "Data columns (total 2 columns):\n",
      "ClientID              10005 non-null int64\n",
      "HeldLoanPreviously    10005 non-null object\n",
      "dtypes: int64(1), object(1)\n",
      "memory usage: 156.4+ KB\n",
      "\n",
      "\n",
      "           ClientID\n",
      "count  10005.000000\n",
      "mean    4998.864168\n",
      "std     2887.336318\n",
      "min        1.000000\n",
      "25%     2499.000000\n",
      "50%     4998.000000\n",
      "75%     7499.000000\n",
      "max    10000.000000\n",
      "\n",
      "\n",
      "ClientID              10005\n",
      "HeldLoanPreviously    10005\n",
      "dtype: int64\n"
     ]
    }
   ],
   "source": [
    "Loan.columns = ['ClientID','HeldLoanPreviously']\n",
    "Loan.info()\n",
    "print('\\n')\n",
    "print(Loan.describe())\n",
    "print('\\n')\n",
    "print(Loan.count())"
   ]
  },
  {
   "cell_type": "markdown",
   "metadata": {},
   "source": [
    "### 1.2.1. Function IsInt\n",
    "\n",
    "** Some of the Strings does not represent some integer. The following function IsInt tries to detect the rows of these cases**"
   ]
  },
  {
   "cell_type": "code",
   "execution_count": 17,
   "metadata": {
    "collapsed": true
   },
   "outputs": [],
   "source": [
    "def IsInt(s):\n",
    "    try: \n",
    "        int(s)\n",
    "        return True\n",
    "    except ValueError:\n",
    "        return False"
   ]
  },
  {
   "cell_type": "markdown",
   "metadata": {},
   "source": [
    "## 1.2.2. Invalid loans"
   ]
  },
  {
   "cell_type": "code",
   "execution_count": 18,
   "metadata": {
    "collapsed": false
   },
   "outputs": [
    {
     "name": "stdout",
     "output_type": "stream",
     "text": [
      "[28, 70, 73, 111, 170]\n"
     ]
    }
   ],
   "source": [
    "Loan_invalid=[]\n",
    "for j in range(len(Loan)):\n",
    "    if not IsInt(Loan.HeldLoanPreviously[j]):\n",
    "        Loan_invalid.append(j)\n",
    "ClientID_Loan_invalid = list(Loan.ClientID[Loan_invalid])\n",
    "print(ClientID_Loan_invalid)"
   ]
  },
  {
   "cell_type": "markdown",
   "metadata": {
    "collapsed": false
   },
   "source": [
    "## 1.3. Products"
   ]
  },
  {
   "cell_type": "code",
   "execution_count": 19,
   "metadata": {
    "collapsed": false
   },
   "outputs": [
    {
     "data": {
      "text/html": [
       "<div>\n",
       "<table border=\"1\" class=\"dataframe\">\n",
       "  <thead>\n",
       "    <tr style=\"text-align: right;\">\n",
       "      <th></th>\n",
       "      <th>0</th>\n",
       "      <th>1</th>\n",
       "    </tr>\n",
       "  </thead>\n",
       "  <tbody>\n",
       "    <tr>\n",
       "      <th>0</th>\n",
       "      <td>1</td>\n",
       "      <td>4</td>\n",
       "    </tr>\n",
       "    <tr>\n",
       "      <th>1</th>\n",
       "      <td>2</td>\n",
       "      <td>4</td>\n",
       "    </tr>\n",
       "  </tbody>\n",
       "</table>\n",
       "</div>"
      ],
      "text/plain": [
       "   0  1\n",
       "0  1  4\n",
       "1  2  4"
      ]
     },
     "execution_count": 19,
     "metadata": {},
     "output_type": "execute_result"
    }
   ],
   "source": [
    "Products = pd.read_csv('Model Build - Product Held in Bank.csv',header=None, sep = ',',encoding='latin-1')\n",
    "Products.head(2)"
   ]
  },
  {
   "cell_type": "code",
   "execution_count": 20,
   "metadata": {
    "collapsed": false
   },
   "outputs": [
    {
     "name": "stdout",
     "output_type": "stream",
     "text": [
      "<class 'pandas.core.frame.DataFrame'>\n",
      "RangeIndex: 10004 entries, 0 to 10003\n",
      "Data columns (total 2 columns):\n",
      "ClientID          10004 non-null int64\n",
      "NumberProducts    10004 non-null object\n",
      "dtypes: int64(1), object(1)\n",
      "memory usage: 156.4+ KB\n",
      "\n",
      "\n",
      "           ClientID\n",
      "count  10004.000000\n",
      "mean    4999.361755\n",
      "std     2887.051613\n",
      "min        1.000000\n",
      "25%     2499.750000\n",
      "50%     4998.500000\n",
      "75%     7499.250000\n",
      "max    10000.000000\n",
      "\n",
      "\n",
      "ClientID          10004\n",
      "NumberProducts    10004\n",
      "dtype: int64\n"
     ]
    }
   ],
   "source": [
    "Products.columns = ['ClientID','NumberProducts']\n",
    "Products.ClientID.value_counts().head(6)\n",
    "Products.head(2)\n",
    "Products.info()\n",
    "print('\\n')\n",
    "print(Products.describe())\n",
    "print('\\n')\n",
    "print(Products.count())"
   ]
  },
  {
   "cell_type": "markdown",
   "metadata": {},
   "source": [
    "### 1.3.1 Invalid products"
   ]
  },
  {
   "cell_type": "code",
   "execution_count": 21,
   "metadata": {
    "collapsed": false
   },
   "outputs": [
    {
     "name": "stdout",
     "output_type": "stream",
     "text": [
      "[6658]\n"
     ]
    }
   ],
   "source": [
    "Products_invalid = []\n",
    "for j in range(len(Products)):\n",
    "    if not IsInt(Products.NumberProducts[j]):\n",
    "        Products_invalid.append(j)\n",
    "ClientID_Products_invalid = list(Products.ClientID[Products_invalid])\n",
    "print(ClientID_Products_invalid)"
   ]
  },
  {
   "cell_type": "markdown",
   "metadata": {
    "collapsed": false
   },
   "source": [
    "## 1.4. Transactions"
   ]
  },
  {
   "cell_type": "markdown",
   "metadata": {},
   "source": [
    "### 1.4.1. After inspecting the ClientID of the other training data set files, we considered that the training data and test data were interchanged."
   ]
  },
  {
   "cell_type": "code",
   "execution_count": 22,
   "metadata": {
    "collapsed": false
   },
   "outputs": [
    {
     "data": {
      "text/html": [
       "<div>\n",
       "<table border=\"1\" class=\"dataframe\">\n",
       "  <thead>\n",
       "    <tr style=\"text-align: right;\">\n",
       "      <th></th>\n",
       "      <th>Client</th>\n",
       "      <th>Num Transactions</th>\n",
       "      <th>Last TXN Amount</th>\n",
       "      <th>Merchant Code</th>\n",
       "      <th>Last Transaction Narrative</th>\n",
       "      <th>Unnamed: 5</th>\n",
       "      <th>Unnamed: 6</th>\n",
       "      <th>Unnamed: 7</th>\n",
       "      <th>0</th>\n",
       "    </tr>\n",
       "  </thead>\n",
       "  <tbody>\n",
       "    <tr>\n",
       "      <th>0</th>\n",
       "      <td>1.0</td>\n",
       "      <td>0.0</td>\n",
       "      <td>NaN</td>\n",
       "      <td>NaN</td>\n",
       "      <td>NaN</td>\n",
       "      <td>NaN</td>\n",
       "      <td>NaN</td>\n",
       "      <td>NaN</td>\n",
       "      <td>NaN</td>\n",
       "    </tr>\n",
       "    <tr>\n",
       "      <th>1</th>\n",
       "      <td>2.0</td>\n",
       "      <td>17.0</td>\n",
       "      <td>83.66</td>\n",
       "      <td>7211.0</td>\n",
       "      <td>THE BRIDGE LAUNDRY       WICKLOW TOWN</td>\n",
       "      <td>NaN</td>\n",
       "      <td>NaN</td>\n",
       "      <td>NaN</td>\n",
       "      <td>NaN</td>\n",
       "    </tr>\n",
       "  </tbody>\n",
       "</table>\n",
       "</div>"
      ],
      "text/plain": [
       "   Client  Num Transactions  Last TXN Amount  Merchant Code  \\\n",
       "0     1.0               0.0              NaN            NaN   \n",
       "1     2.0              17.0            83.66         7211.0   \n",
       "\n",
       "              Last Transaction Narrative  Unnamed: 5  Unnamed: 6  Unnamed: 7  \\\n",
       "0                                    NaN         NaN         NaN         NaN   \n",
       "1  THE BRIDGE LAUNDRY       WICKLOW TOWN         NaN         NaN         NaN   \n",
       "\n",
       "    0  \n",
       "0 NaN  \n",
       "1 NaN  "
      ]
     },
     "execution_count": 22,
     "metadata": {},
     "output_type": "execute_result"
    }
   ],
   "source": [
    "Transactions = pd.read_csv('Test Sample/TEST - Transactions out of Current Account.csv', sep = ',',encoding='latin-1')\n",
    "Transactions.head(2)"
   ]
  },
  {
   "cell_type": "code",
   "execution_count": 23,
   "metadata": {
    "collapsed": false
   },
   "outputs": [
    {
     "name": "stdout",
     "output_type": "stream",
     "text": [
      "<class 'pandas.core.frame.DataFrame'>\n",
      "RangeIndex: 11221 entries, 0 to 11220\n",
      "Data columns (total 5 columns):\n",
      "ClientID                    10004 non-null float64\n",
      "NumTransactions             10004 non-null float64\n",
      "LastTXNAmount               6724 non-null float64\n",
      "MerchantCode                6724 non-null float64\n",
      "LastTransactionNarrative    6724 non-null object\n",
      "dtypes: float64(4), object(1)\n",
      "memory usage: 438.4+ KB\n"
     ]
    }
   ],
   "source": [
    "Transactions.drop(['Unnamed: 5','Unnamed: 6','Unnamed: 7','0'],axis=1,inplace=True)\n",
    "Transactions.columns = ['ClientID','NumTransactions','LastTXNAmount','MerchantCode','LastTransactionNarrative']\n",
    "Transactions.info()"
   ]
  },
  {
   "cell_type": "markdown",
   "metadata": {},
   "source": [
    "### 1.4.2. Useless supplementary rows"
   ]
  },
  {
   "cell_type": "code",
   "execution_count": 24,
   "metadata": {
    "collapsed": false
   },
   "outputs": [
    {
     "data": {
      "text/html": [
       "<div>\n",
       "<table border=\"1\" class=\"dataframe\">\n",
       "  <thead>\n",
       "    <tr style=\"text-align: right;\">\n",
       "      <th></th>\n",
       "      <th>ClientID</th>\n",
       "      <th>NumTransactions</th>\n",
       "      <th>LastTXNAmount</th>\n",
       "      <th>MerchantCode</th>\n",
       "      <th>LastTransactionNarrative</th>\n",
       "    </tr>\n",
       "  </thead>\n",
       "  <tbody>\n",
       "    <tr>\n",
       "      <th>11219</th>\n",
       "      <td>NaN</td>\n",
       "      <td>NaN</td>\n",
       "      <td>NaN</td>\n",
       "      <td>NaN</td>\n",
       "      <td>NaN</td>\n",
       "    </tr>\n",
       "    <tr>\n",
       "      <th>11220</th>\n",
       "      <td>NaN</td>\n",
       "      <td>NaN</td>\n",
       "      <td>NaN</td>\n",
       "      <td>NaN</td>\n",
       "      <td>NaN</td>\n",
       "    </tr>\n",
       "  </tbody>\n",
       "</table>\n",
       "</div>"
      ],
      "text/plain": [
       "       ClientID  NumTransactions  LastTXNAmount  MerchantCode  \\\n",
       "11219       NaN              NaN            NaN           NaN   \n",
       "11220       NaN              NaN            NaN           NaN   \n",
       "\n",
       "      LastTransactionNarrative  \n",
       "11219                      NaN  \n",
       "11220                      NaN  "
      ]
     },
     "execution_count": 24,
     "metadata": {},
     "output_type": "execute_result"
    }
   ],
   "source": [
    "Transactions.tail(2)"
   ]
  },
  {
   "cell_type": "markdown",
   "metadata": {},
   "source": [
    "### Some rows of Transactions table are missing values and this is highlighted below "
   ]
  },
  {
   "cell_type": "code",
   "execution_count": 25,
   "metadata": {
    "collapsed": false
   },
   "outputs": [
    {
     "data": {
      "text/html": [
       "<div>\n",
       "<table border=\"1\" class=\"dataframe\">\n",
       "  <thead>\n",
       "    <tr style=\"text-align: right;\">\n",
       "      <th></th>\n",
       "      <th>ClientID</th>\n",
       "      <th>NumTransactions</th>\n",
       "      <th>LastTXNAmount</th>\n",
       "      <th>MerchantCode</th>\n",
       "      <th>LastTransactionNarrative</th>\n",
       "    </tr>\n",
       "  </thead>\n",
       "  <tbody>\n",
       "    <tr>\n",
       "      <th>10004</th>\n",
       "      <td>NaN</td>\n",
       "      <td>NaN</td>\n",
       "      <td>NaN</td>\n",
       "      <td>NaN</td>\n",
       "      <td>NaN</td>\n",
       "    </tr>\n",
       "    <tr>\n",
       "      <th>10005</th>\n",
       "      <td>NaN</td>\n",
       "      <td>NaN</td>\n",
       "      <td>NaN</td>\n",
       "      <td>NaN</td>\n",
       "      <td>NaN</td>\n",
       "    </tr>\n",
       "  </tbody>\n",
       "</table>\n",
       "</div>"
      ],
      "text/plain": [
       "       ClientID  NumTransactions  LastTXNAmount  MerchantCode  \\\n",
       "10004       NaN              NaN            NaN           NaN   \n",
       "10005       NaN              NaN            NaN           NaN   \n",
       "\n",
       "      LastTransactionNarrative  \n",
       "10004                      NaN  \n",
       "10005                      NaN  "
      ]
     },
     "execution_count": 25,
     "metadata": {},
     "output_type": "execute_result"
    }
   ],
   "source": [
    "Transactions[Transactions.ClientID.isnull()].head(2)"
   ]
  },
  {
   "cell_type": "code",
   "execution_count": 26,
   "metadata": {
    "collapsed": false
   },
   "outputs": [
    {
     "data": {
      "text/html": [
       "<div>\n",
       "<table border=\"1\" class=\"dataframe\">\n",
       "  <thead>\n",
       "    <tr style=\"text-align: right;\">\n",
       "      <th></th>\n",
       "      <th>ClientID</th>\n",
       "      <th>NumTransactions</th>\n",
       "      <th>LastTXNAmount</th>\n",
       "      <th>MerchantCode</th>\n",
       "      <th>LastTransactionNarrative</th>\n",
       "    </tr>\n",
       "  </thead>\n",
       "  <tbody>\n",
       "    <tr>\n",
       "      <th>11219</th>\n",
       "      <td>NaN</td>\n",
       "      <td>NaN</td>\n",
       "      <td>NaN</td>\n",
       "      <td>NaN</td>\n",
       "      <td>NaN</td>\n",
       "    </tr>\n",
       "    <tr>\n",
       "      <th>11220</th>\n",
       "      <td>NaN</td>\n",
       "      <td>NaN</td>\n",
       "      <td>NaN</td>\n",
       "      <td>NaN</td>\n",
       "      <td>NaN</td>\n",
       "    </tr>\n",
       "  </tbody>\n",
       "</table>\n",
       "</div>"
      ],
      "text/plain": [
       "       ClientID  NumTransactions  LastTXNAmount  MerchantCode  \\\n",
       "11219       NaN              NaN            NaN           NaN   \n",
       "11220       NaN              NaN            NaN           NaN   \n",
       "\n",
       "      LastTransactionNarrative  \n",
       "11219                      NaN  \n",
       "11220                      NaN  "
      ]
     },
     "execution_count": 26,
     "metadata": {},
     "output_type": "execute_result"
    }
   ],
   "source": [
    "Transactions[Transactions.ClientID.isnull()].tail(2)"
   ]
  },
  {
   "cell_type": "markdown",
   "metadata": {},
   "source": [
    "### As we can observe the last ClientID of the precedent tables is 10000"
   ]
  },
  {
   "cell_type": "code",
   "execution_count": 27,
   "metadata": {
    "collapsed": false
   },
   "outputs": [
    {
     "name": "stdout",
     "output_type": "stream",
     "text": [
      "10003    10000\n",
      "Name: ClientID, dtype: int64\n",
      "10004    10000\n",
      "Name: ClientID, dtype: int64\n",
      "10003    10000\n",
      "Name: ClientID, dtype: int64\n"
     ]
    }
   ],
   "source": [
    "print(Demog.ClientID.sort_values().tail(1))\n",
    "print(Loan.ClientID.tail(1).sort_values().tail(1))\n",
    "print(Products.ClientID.tail(1).sort_values().tail(1))"
   ]
  },
  {
   "cell_type": "code",
   "execution_count": 28,
   "metadata": {
    "collapsed": false
   },
   "outputs": [],
   "source": [
    "Transactions = Transactions[Transactions.ClientID <=10000]"
   ]
  },
  {
   "cell_type": "markdown",
   "metadata": {},
   "source": [
    "### 1.4.2. Handling missing values "
   ]
  },
  {
   "cell_type": "code",
   "execution_count": 29,
   "metadata": {
    "collapsed": true
   },
   "outputs": [],
   "source": [
    "index_NaN_MerchantCode = Transactions[Transactions.MerchantCode.isnull()].index\n",
    "index_NaN_LastTXNAmount = Transactions[Transactions.LastTXNAmount.isnull()].index\n",
    "index_Null_Numb_Transactions = Transactions[Transactions.NumTransactions == 0].index\n"
   ]
  },
  {
   "cell_type": "code",
   "execution_count": 30,
   "metadata": {
    "collapsed": false
   },
   "outputs": [
    {
     "name": "stdout",
     "output_type": "stream",
     "text": [
      "Total number of missing values in MerchantCode column is: 3280\n",
      "Total number of missing values in LastTXNAmount column is: 3280\n",
      "Total number of null values in the NumTransactions column is: 3280\n",
      "\n",
      "\n",
      "Total number of null NumTransactions and NaN MerchantCode: 3280\n",
      "Total number of null NumTransactions and NaN LastTXNAmount: 3280\n"
     ]
    }
   ],
   "source": [
    "print('Total number of missing values in MerchantCode column is:',len(index_NaN_MerchantCode))\n",
    "print('Total number of missing values in LastTXNAmount column is:',len(index_NaN_LastTXNAmount))\n",
    "print('Total number of null values in the NumTransactions column is:',len(index_Null_Numb_Transactions))\n",
    "print('\\n')\n",
    "print('Total number of null NumTransactions and NaN MerchantCode:',sum(index_Null_Numb_Transactions==index_NaN_MerchantCode))\n",
    "print('Total number of null NumTransactions and NaN LastTXNAmount:',sum(index_Null_Numb_Transactions==index_NaN_LastTXNAmount))"
   ]
  },
  {
   "cell_type": "markdown",
   "metadata": {},
   "source": [
    "- ###  Hence, we have shown that LastTXNAmount and MerchantCode are NaN when NumTransactions == 0.\n",
    "- ### Consequently we will replace the missing values by a zero"
   ]
  },
  {
   "cell_type": "code",
   "execution_count": 31,
   "metadata": {
    "collapsed": false
   },
   "outputs": [],
   "source": [
    "Transactions.LastTXNAmount.fillna(0,inplace=True)\n",
    "Transactions.MerchantCode.fillna(0,inplace=True)"
   ]
  },
  {
   "cell_type": "markdown",
   "metadata": {},
   "source": [
    "### Let us keep only the variables ClientID and LastTXNAmount which are the most important in our point of view"
   ]
  },
  {
   "cell_type": "code",
   "execution_count": 32,
   "metadata": {
    "collapsed": false
   },
   "outputs": [
    {
     "name": "stdout",
     "output_type": "stream",
     "text": [
      "<class 'pandas.core.frame.DataFrame'>\n",
      "Int64Index: 10004 entries, 0 to 10003\n",
      "Data columns (total 2 columns):\n",
      "ClientID         10004 non-null int64\n",
      "LastTXNAmount    10004 non-null float64\n",
      "dtypes: float64(1), int64(1)\n",
      "memory usage: 234.5 KB\n"
     ]
    }
   ],
   "source": [
    "Transactions = Transactions[['ClientID', 'LastTXNAmount']]\n",
    "Transactions.ClientID = Transactions.ClientID.map(int)\n",
    "Transactions.info()"
   ]
  },
  {
   "cell_type": "markdown",
   "metadata": {},
   "source": [
    "## 1.5. TXN"
   ]
  },
  {
   "cell_type": "code",
   "execution_count": 33,
   "metadata": {
    "collapsed": false
   },
   "outputs": [
    {
     "data": {
      "text/html": [
       "<div>\n",
       "<table border=\"1\" class=\"dataframe\">\n",
       "  <thead>\n",
       "    <tr style=\"text-align: right;\">\n",
       "      <th></th>\n",
       "      <th>0</th>\n",
       "      <th>1</th>\n",
       "    </tr>\n",
       "  </thead>\n",
       "  <tbody>\n",
       "    <tr>\n",
       "      <th>0</th>\n",
       "      <td>1</td>\n",
       "      <td>58</td>\n",
       "    </tr>\n",
       "    <tr>\n",
       "      <th>1</th>\n",
       "      <td>2</td>\n",
       "      <td>2,663</td>\n",
       "    </tr>\n",
       "  </tbody>\n",
       "</table>\n",
       "</div>"
      ],
      "text/plain": [
       "   0       1\n",
       "0  1     58\n",
       "1  2  2,663"
      ]
     },
     "execution_count": 33,
     "metadata": {},
     "output_type": "execute_result"
    }
   ],
   "source": [
    "TXN = pd.read_csv('Model Build - TXN Amount.csv', header=None, sep = ',',encoding='latin-1')\n",
    "TXN.head(2)"
   ]
  },
  {
   "cell_type": "code",
   "execution_count": 34,
   "metadata": {
    "collapsed": false
   },
   "outputs": [
    {
     "data": {
      "text/html": [
       "<div>\n",
       "<table border=\"1\" class=\"dataframe\">\n",
       "  <thead>\n",
       "    <tr style=\"text-align: right;\">\n",
       "      <th></th>\n",
       "      <th>ClientID</th>\n",
       "      <th>AverageNumbCA</th>\n",
       "    </tr>\n",
       "  </thead>\n",
       "  <tbody>\n",
       "    <tr>\n",
       "      <th>0</th>\n",
       "      <td>1</td>\n",
       "      <td>58.0</td>\n",
       "    </tr>\n",
       "    <tr>\n",
       "      <th>1</th>\n",
       "      <td>2</td>\n",
       "      <td>2663.0</td>\n",
       "    </tr>\n",
       "    <tr>\n",
       "      <th>2</th>\n",
       "      <td>3</td>\n",
       "      <td>46.0</td>\n",
       "    </tr>\n",
       "  </tbody>\n",
       "</table>\n",
       "</div>"
      ],
      "text/plain": [
       "   ClientID  AverageNumbCA\n",
       "0         1           58.0\n",
       "1         2         2663.0\n",
       "2         3           46.0"
      ]
     },
     "execution_count": 34,
     "metadata": {},
     "output_type": "execute_result"
    }
   ],
   "source": [
    "TXN = pd.read_csv('Model Build - TXN Amount.csv', header=None, sep = ',',encoding='latin-1')\n",
    "TXN.columns = ['ClientID','AverageNumbCA']\n",
    "TXN.AverageNumbCA = TXN.AverageNumbCA.apply(lambda x: np.float(x[1:].replace(',','')))\n",
    "TXN.head(3)"
   ]
  },
  {
   "cell_type": "code",
   "execution_count": 35,
   "metadata": {
    "collapsed": false
   },
   "outputs": [
    {
     "name": "stdout",
     "output_type": "stream",
     "text": [
      "<class 'pandas.core.frame.DataFrame'>\n",
      "RangeIndex: 10004 entries, 0 to 10003\n",
      "Data columns (total 2 columns):\n",
      "ClientID         10004 non-null int64\n",
      "AverageNumbCA    10004 non-null float64\n",
      "dtypes: float64(1), int64(1)\n",
      "memory usage: 156.4 KB\n",
      "\n",
      "\n",
      "           ClientID  AverageNumbCA\n",
      "count  10004.000000   10004.000000\n",
      "mean    4999.361755     444.820572\n",
      "std     2887.051613     877.371286\n",
      "min        1.000000       0.000000\n",
      "25%     2499.750000       0.000000\n",
      "50%     4998.500000      30.000000\n",
      "75%     7499.250000     402.000000\n",
      "max    10000.000000    9470.000000\n",
      "\n",
      "\n",
      "ClientID         10004\n",
      "AverageNumbCA    10004\n",
      "dtype: int64\n"
     ]
    }
   ],
   "source": [
    "TXN.info()\n",
    "print('\\n')\n",
    "print(TXN.describe())\n",
    "print('\\n')\n",
    "print(TXN.count())"
   ]
  },
  {
   "cell_type": "markdown",
   "metadata": {
    "collapsed": false
   },
   "source": [
    "## 1.6. Flag Loan"
   ]
  },
  {
   "cell_type": "code",
   "execution_count": 36,
   "metadata": {
    "collapsed": false
   },
   "outputs": [
    {
     "data": {
      "text/html": [
       "<div>\n",
       "<table border=\"1\" class=\"dataframe\">\n",
       "  <thead>\n",
       "    <tr style=\"text-align: right;\">\n",
       "      <th></th>\n",
       "      <th>Client ID</th>\n",
       "      <th>Loan Flag</th>\n",
       "      <th>Unnamed: 2</th>\n",
       "      <th>Unnamed: 3</th>\n",
       "    </tr>\n",
       "  </thead>\n",
       "  <tbody>\n",
       "    <tr>\n",
       "      <th>0</th>\n",
       "      <td>1</td>\n",
       "      <td>0</td>\n",
       "      <td>NaN</td>\n",
       "      <td>NaN</td>\n",
       "    </tr>\n",
       "    <tr>\n",
       "      <th>1</th>\n",
       "      <td>2</td>\n",
       "      <td>0</td>\n",
       "      <td>NaN</td>\n",
       "      <td>NaN</td>\n",
       "    </tr>\n",
       "  </tbody>\n",
       "</table>\n",
       "</div>"
      ],
      "text/plain": [
       "   Client ID  Loan Flag  Unnamed: 2  Unnamed: 3\n",
       "0          1          0         NaN         NaN\n",
       "1          2          0         NaN         NaN"
      ]
     },
     "execution_count": 36,
     "metadata": {},
     "output_type": "execute_result"
    }
   ],
   "source": [
    "Flag_Loan = pd.read_csv('Target Variable - Purchased Loan Flag.csv', sep = ',',encoding='latin-1')\n",
    "Flag_Loan.head(2)"
   ]
  },
  {
   "cell_type": "code",
   "execution_count": 37,
   "metadata": {
    "collapsed": false
   },
   "outputs": [
    {
     "data": {
      "text/html": [
       "<div>\n",
       "<table border=\"1\" class=\"dataframe\">\n",
       "  <thead>\n",
       "    <tr style=\"text-align: right;\">\n",
       "      <th></th>\n",
       "      <th>ClientID</th>\n",
       "      <th>LoanFlag</th>\n",
       "    </tr>\n",
       "  </thead>\n",
       "  <tbody>\n",
       "    <tr>\n",
       "      <th>0</th>\n",
       "      <td>1</td>\n",
       "      <td>0</td>\n",
       "    </tr>\n",
       "    <tr>\n",
       "      <th>1</th>\n",
       "      <td>2</td>\n",
       "      <td>0</td>\n",
       "    </tr>\n",
       "  </tbody>\n",
       "</table>\n",
       "</div>"
      ],
      "text/plain": [
       "   ClientID  LoanFlag\n",
       "0         1         0\n",
       "1         2         0"
      ]
     },
     "execution_count": 37,
     "metadata": {},
     "output_type": "execute_result"
    }
   ],
   "source": [
    "Flag_Loan = pd.read_csv('Target Variable - Purchased Loan Flag.csv', sep = ',',encoding='latin-1')\n",
    "Flag_Loan.drop(['Unnamed: 2','Unnamed: 3'],axis=1,inplace=True)\n",
    "Flag_Loan.columns = ['ClientID','LoanFlag']\n",
    "Flag_Loan.reset_index(drop=True,inplace=True)\n",
    "Flag_Loan.head(2)"
   ]
  },
  {
   "cell_type": "code",
   "execution_count": 38,
   "metadata": {
    "collapsed": false
   },
   "outputs": [
    {
     "name": "stdout",
     "output_type": "stream",
     "text": [
      "<class 'pandas.core.frame.DataFrame'>\n",
      "RangeIndex: 10004 entries, 0 to 10003\n",
      "Data columns (total 2 columns):\n",
      "ClientID    10004 non-null int64\n",
      "LoanFlag    10004 non-null int64\n",
      "dtypes: int64(2)\n",
      "memory usage: 156.4 KB\n",
      "\n",
      "\n",
      "           ClientID      LoanFlag\n",
      "count  10004.000000  10004.000000\n",
      "mean    4999.361755      0.021092\n",
      "std     2887.051613      0.143697\n",
      "min        1.000000      0.000000\n",
      "25%     2499.750000      0.000000\n",
      "50%     4998.500000      0.000000\n",
      "75%     7499.250000      0.000000\n",
      "max    10000.000000      1.000000\n"
     ]
    }
   ],
   "source": [
    "Flag_Loan.info()\n",
    "print('\\n')\n",
    "print(Flag_Loan.describe())"
   ]
  },
  {
   "cell_type": "code",
   "execution_count": null,
   "metadata": {
    "collapsed": false
   },
   "outputs": [],
   "source": []
  },
  {
   "cell_type": "markdown",
   "metadata": {},
   "source": [
    "## 1.7. County"
   ]
  },
  {
   "cell_type": "code",
   "execution_count": 39,
   "metadata": {
    "collapsed": false
   },
   "outputs": [
    {
     "data": {
      "text/html": [
       "<div>\n",
       "<table border=\"1\" class=\"dataframe\">\n",
       "  <thead>\n",
       "    <tr style=\"text-align: right;\">\n",
       "      <th></th>\n",
       "      <th>SNo</th>\n",
       "      <th>County</th>\n",
       "      <th>Population</th>\n",
       "      <th>Density (/ km2)</th>\n",
       "      <th>Rank</th>\n",
       "      <th>Province</th>\n",
       "      <th>Change since</th>\n",
       "    </tr>\n",
       "  </thead>\n",
       "  <tbody>\n",
       "    <tr>\n",
       "      <th>0</th>\n",
       "      <td>NaN</td>\n",
       "      <td>NaN</td>\n",
       "      <td>NaN</td>\n",
       "      <td>NaN</td>\n",
       "      <td>NaN</td>\n",
       "      <td>NaN</td>\n",
       "      <td>previous census</td>\n",
       "    </tr>\n",
       "    <tr>\n",
       "      <th>1</th>\n",
       "      <td>1</td>\n",
       "      <td>Dublin</td>\n",
       "      <td>1273069.0</td>\n",
       "      <td>1380.8</td>\n",
       "      <td>1</td>\n",
       "      <td>Leinster</td>\n",
       "      <td>0.0702</td>\n",
       "    </tr>\n",
       "  </tbody>\n",
       "</table>\n",
       "</div>"
      ],
      "text/plain": [
       "   SNo  County  Population  Density (/ km2) Rank  Province     Change since\n",
       "0  NaN     NaN         NaN              NaN  NaN       NaN  previous census\n",
       "1    1  Dublin   1273069.0           1380.8    1  Leinster           0.0702"
      ]
     },
     "execution_count": 39,
     "metadata": {},
     "output_type": "execute_result"
    }
   ],
   "source": [
    "County = pd.read_excel('County Lkp.xlsx', sep = ',',encoding='latin-1')\n",
    "County.head(2)"
   ]
  },
  {
   "cell_type": "code",
   "execution_count": 40,
   "metadata": {
    "collapsed": false
   },
   "outputs": [
    {
     "data": {
      "text/html": [
       "<div>\n",
       "<table border=\"1\" class=\"dataframe\">\n",
       "  <thead>\n",
       "    <tr style=\"text-align: right;\">\n",
       "      <th></th>\n",
       "      <th>SNo</th>\n",
       "      <th>County</th>\n",
       "      <th>Population</th>\n",
       "      <th>Density (/ km2)</th>\n",
       "      <th>Rank</th>\n",
       "      <th>Province</th>\n",
       "      <th>Change since</th>\n",
       "    </tr>\n",
       "  </thead>\n",
       "  <tbody>\n",
       "    <tr>\n",
       "      <th>36</th>\n",
       "      <td>32</td>\n",
       "      <td>Leitrim</td>\n",
       "      <td>31796.0</td>\n",
       "      <td>19.9</td>\n",
       "      <td>32</td>\n",
       "      <td>Connacht</td>\n",
       "      <td>0.0984</td>\n",
       "    </tr>\n",
       "    <tr>\n",
       "      <th>37</th>\n",
       "      <td>NaN</td>\n",
       "      <td>Average</td>\n",
       "      <td>199974.0</td>\n",
       "      <td>NaN</td>\n",
       "      <td>NaN</td>\n",
       "      <td>NaN</td>\n",
       "      <td>NaN</td>\n",
       "    </tr>\n",
       "    <tr>\n",
       "      <th>38</th>\n",
       "      <td>NaN</td>\n",
       "      <td>Ireland</td>\n",
       "      <td>6469688.0</td>\n",
       "      <td>76.6</td>\n",
       "      <td>Total</td>\n",
       "      <td>NaN</td>\n",
       "      <td>NaN</td>\n",
       "    </tr>\n",
       "    <tr>\n",
       "      <th>39</th>\n",
       "      <td>NaN</td>\n",
       "      <td>NaN</td>\n",
       "      <td>NaN</td>\n",
       "      <td>NaN</td>\n",
       "      <td>NaN</td>\n",
       "      <td>NaN</td>\n",
       "      <td>NaN</td>\n",
       "    </tr>\n",
       "    <tr>\n",
       "      <th>40</th>\n",
       "      <td>For other more formats kindly visit www.downlo...</td>\n",
       "      <td>NaN</td>\n",
       "      <td>NaN</td>\n",
       "      <td>NaN</td>\n",
       "      <td>NaN</td>\n",
       "      <td>NaN</td>\n",
       "      <td>NaN</td>\n",
       "    </tr>\n",
       "    <tr>\n",
       "      <th>41</th>\n",
       "      <td>NaN</td>\n",
       "      <td>NaN</td>\n",
       "      <td>NaN</td>\n",
       "      <td>NaN</td>\n",
       "      <td>NaN</td>\n",
       "      <td>NaN</td>\n",
       "      <td>NaN</td>\n",
       "    </tr>\n",
       "    <tr>\n",
       "      <th>42</th>\n",
       "      <td>Original source : en.wikipedia.org/wiki/List_o...</td>\n",
       "      <td>NaN</td>\n",
       "      <td>NaN</td>\n",
       "      <td>NaN</td>\n",
       "      <td>NaN</td>\n",
       "      <td>NaN</td>\n",
       "      <td>NaN</td>\n",
       "    </tr>\n",
       "  </tbody>\n",
       "</table>\n",
       "</div>"
      ],
      "text/plain": [
       "                                                  SNo   County  Population  \\\n",
       "36                                                 32  Leitrim     31796.0   \n",
       "37                                                NaN  Average    199974.0   \n",
       "38                                                NaN  Ireland   6469688.0   \n",
       "39                                                NaN      NaN         NaN   \n",
       "40  For other more formats kindly visit www.downlo...      NaN         NaN   \n",
       "41                                                NaN      NaN         NaN   \n",
       "42  Original source : en.wikipedia.org/wiki/List_o...      NaN         NaN   \n",
       "\n",
       "    Density (/ km2)   Rank  Province Change since  \n",
       "36             19.9     32  Connacht       0.0984  \n",
       "37              NaN    NaN       NaN          NaN  \n",
       "38             76.6  Total       NaN          NaN  \n",
       "39              NaN    NaN       NaN          NaN  \n",
       "40              NaN    NaN       NaN          NaN  \n",
       "41              NaN    NaN       NaN          NaN  \n",
       "42              NaN    NaN       NaN          NaN  "
      ]
     },
     "execution_count": 40,
     "metadata": {},
     "output_type": "execute_result"
    }
   ],
   "source": [
    "County.drop(County.index[0],inplace=True)\n",
    "County.reset_index(drop=True,inplace=True)\n",
    "County.tail(7)"
   ]
  },
  {
   "cell_type": "markdown",
   "metadata": {},
   "source": [
    "### Useless rows beyong row number 36"
   ]
  },
  {
   "cell_type": "code",
   "execution_count": 41,
   "metadata": {
    "collapsed": false
   },
   "outputs": [
    {
     "data": {
      "text/html": [
       "<div>\n",
       "<table border=\"1\" class=\"dataframe\">\n",
       "  <thead>\n",
       "    <tr style=\"text-align: right;\">\n",
       "      <th></th>\n",
       "      <th>SNo</th>\n",
       "      <th>County</th>\n",
       "      <th>Population</th>\n",
       "      <th>Density (/ km2)</th>\n",
       "      <th>Rank</th>\n",
       "      <th>Province</th>\n",
       "      <th>Change since</th>\n",
       "    </tr>\n",
       "  </thead>\n",
       "  <tbody>\n",
       "    <tr>\n",
       "      <th>32</th>\n",
       "      <td>28</td>\n",
       "      <td>Fermanagh</td>\n",
       "      <td>61170.0</td>\n",
       "      <td>36.1</td>\n",
       "      <td>28</td>\n",
       "      <td>Ulster</td>\n",
       "      <td>0.0633</td>\n",
       "    </tr>\n",
       "    <tr>\n",
       "      <th>33</th>\n",
       "      <td>29</td>\n",
       "      <td>Monaghan</td>\n",
       "      <td>60483.0</td>\n",
       "      <td>46.7</td>\n",
       "      <td>29</td>\n",
       "      <td>Ulster</td>\n",
       "      <td>0.0801</td>\n",
       "    </tr>\n",
       "    <tr>\n",
       "      <th>34</th>\n",
       "      <td>30</td>\n",
       "      <td>Carlow</td>\n",
       "      <td>54612.0</td>\n",
       "      <td>60.8</td>\n",
       "      <td>30</td>\n",
       "      <td>Leinster</td>\n",
       "      <td>0.0847</td>\n",
       "    </tr>\n",
       "    <tr>\n",
       "      <th>35</th>\n",
       "      <td>31</td>\n",
       "      <td>Longford</td>\n",
       "      <td>39000.0</td>\n",
       "      <td>35.7</td>\n",
       "      <td>31</td>\n",
       "      <td>Leinster</td>\n",
       "      <td>0.134</td>\n",
       "    </tr>\n",
       "    <tr>\n",
       "      <th>36</th>\n",
       "      <td>32</td>\n",
       "      <td>Leitrim</td>\n",
       "      <td>31796.0</td>\n",
       "      <td>19.9</td>\n",
       "      <td>32</td>\n",
       "      <td>Connacht</td>\n",
       "      <td>0.0984</td>\n",
       "    </tr>\n",
       "  </tbody>\n",
       "</table>\n",
       "</div>"
      ],
      "text/plain": [
       "   SNo     County  Population  Density (/ km2) Rank  Province Change since\n",
       "32  28  Fermanagh     61170.0             36.1   28    Ulster       0.0633\n",
       "33  29   Monaghan     60483.0             46.7   29    Ulster       0.0801\n",
       "34  30     Carlow     54612.0             60.8   30  Leinster       0.0847\n",
       "35  31   Longford     39000.0             35.7   31  Leinster        0.134\n",
       "36  32    Leitrim     31796.0             19.9   32  Connacht       0.0984"
      ]
     },
     "execution_count": 41,
     "metadata": {},
     "output_type": "execute_result"
    }
   ],
   "source": [
    "County = County[County.index<37]\n",
    "County.tail()"
   ]
  },
  {
   "cell_type": "code",
   "execution_count": 44,
   "metadata": {
    "collapsed": false
   },
   "outputs": [
    {
     "data": {
      "text/plain": [
       "<matplotlib.axes._subplots.AxesSubplot at 0x7fa0589163c8>"
      ]
     },
     "execution_count": 44,
     "metadata": {},
     "output_type": "execute_result"
    },
    {
     "data": {
      "image/png": "[encoded data removed]",
      "text/plain": [
       "<matplotlib.figure.Figure at 0x7fa058965dd8>"
      ]
     },
     "metadata": {},
     "output_type": "display_data"
    }
   ],
   "source": [
    "%matplotlib inline\n",
    "County.Population.hist()\n"
   ]
  },
  {
   "cell_type": "code",
   "execution_count": 45,
   "metadata": {
    "collapsed": false
   },
   "outputs": [
    {
     "name": "stdout",
     "output_type": "stream",
     "text": [
      "count    3.700000e+01\n",
      "mean     1.973838e+05\n",
      "std      2.261722e+05\n",
      "min      3.179600e+04\n",
      "25%      7.668700e+04\n",
      "50%      1.366400e+05\n",
      "75%      2.062610e+05\n",
      "max      1.273069e+06\n",
      "Name: Population, dtype: float64\n",
      "4\n"
     ]
    }
   ],
   "source": [
    "print(County.Population.describe())\n",
    "print(sum(County.Population>300000))"
   ]
  },
  {
   "cell_type": "markdown",
   "metadata": {},
   "source": [
    "### 1.7.1. Binning County population\n",
    "The idea of this process is to categorize the Counties in three main categories:\n",
    "- NormalSize: $County.Population \\gt County.Population.median()$\n",
    "- LargeSize: $County.Population\\leq County.Population.median()$"
   ]
  },
  {
   "cell_type": "code",
   "execution_count": 46,
   "metadata": {
    "collapsed": false
   },
   "outputs": [
    {
     "data": {
      "text/html": [
       "<div>\n",
       "<table border=\"1\" class=\"dataframe\">\n",
       "  <thead>\n",
       "    <tr style=\"text-align: right;\">\n",
       "      <th></th>\n",
       "      <th>County</th>\n",
       "      <th>Population_class</th>\n",
       "    </tr>\n",
       "  </thead>\n",
       "  <tbody>\n",
       "    <tr>\n",
       "      <th>0</th>\n",
       "      <td>Dublin</td>\n",
       "      <td>LargeSize</td>\n",
       "    </tr>\n",
       "    <tr>\n",
       "      <th>1</th>\n",
       "      <td>Antrim</td>\n",
       "      <td>LargeSize</td>\n",
       "    </tr>\n",
       "    <tr>\n",
       "      <th>2</th>\n",
       "      <td>Down</td>\n",
       "      <td>LargeSize</td>\n",
       "    </tr>\n",
       "    <tr>\n",
       "      <th>3</th>\n",
       "      <td>Cork</td>\n",
       "      <td>LargeSize</td>\n",
       "    </tr>\n",
       "    <tr>\n",
       "      <th>4</th>\n",
       "      <td>Fingal</td>\n",
       "      <td>LargeSize</td>\n",
       "    </tr>\n",
       "  </tbody>\n",
       "</table>\n",
       "</div>"
      ],
      "text/plain": [
       "   County Population_class\n",
       "0  Dublin        LargeSize\n",
       "1  Antrim        LargeSize\n",
       "2    Down        LargeSize\n",
       "3    Cork        LargeSize\n",
       "4  Fingal        LargeSize"
      ]
     },
     "execution_count": 46,
     "metadata": {},
     "output_type": "execute_result"
    }
   ],
   "source": [
    "p = County.Population.values\n",
    "\n",
    "bins = [0, np.median(p), np.max(p)+1]\n",
    "group_names = ['NormalSize', 'LargeSize']\n",
    "County['Population_class'] = pd.cut(County['Population'], bins, labels=group_names)\n",
    "County_population_cat = County[['County','Population_class']]\n",
    "County_population_cat.head()"
   ]
  },
  {
   "cell_type": "markdown",
   "metadata": {},
   "source": [
    "## 1.8. Clients/Rows to drop"
   ]
  },
  {
   "cell_type": "markdown",
   "metadata": {},
   "source": [
    "### 1.8.1. We can notice below that the clients with ID: 21, 46, 1220, 3674 and 3675 are recorded more than one time (twice)."
   ]
  },
  {
   "cell_type": "code",
   "execution_count": 47,
   "metadata": {
    "collapsed": false
   },
   "outputs": [
    {
     "name": "stdout",
     "output_type": "stream",
     "text": [
      "[1220, 46, 3674, 3675]\n",
      "[1220, 21, 3675, 3674, 46]\n",
      "[1220, 46, 3674, 3675]\n",
      "[1220, 46, 3674, 3675]\n",
      "[1220, 46, 3674, 3675]\n"
     ]
    }
   ],
   "source": [
    "t1 = Demog.ClientID.value_counts()>1\n",
    "print(list(t1[t1.values == True].index))\n",
    "t2 = Loan.ClientID.value_counts()>1\n",
    "print(list(t2[t2.values == True].index))\n",
    "t3 = Products.ClientID.value_counts()>1\n",
    "print(list(t3[t3.values == True].index))\n",
    "t4 = TXN.ClientID.value_counts()>1\n",
    "print(list(t4[t4.values == True].index))\n",
    "t5 = Flag_Loan.ClientID.value_counts()>1\n",
    "print(list(t5[t5.values == True].index))"
   ]
  },
  {
   "cell_type": "markdown",
   "metadata": {},
   "source": [
    " ### 1.8.2. And the different records are not identical"
   ]
  },
  {
   "cell_type": "code",
   "execution_count": 48,
   "metadata": {
    "collapsed": false
   },
   "outputs": [
    {
     "name": "stdout",
     "output_type": "stream",
     "text": [
      "      ClientID  Age  Sex     County    IncomeGroup\n",
      "20          21   48    1     Dublin  10001 - 40000\n",
      "45          46   56    0      Kerry  10001 - 40000\n",
      "46          46   20    0      Laois  10001 - 40000\n",
      "1220      1220   67    0  Tipperary  10001 - 40000\n",
      "1221      1220   48    1    Kildare        100000+\n",
      "3675      3674   46    0     Galway  10001 - 40000\n",
      "3676      3674   37    1     Carlow  10001 - 40000\n",
      "3677      3675   56    1     Dublin      0 - 10000\n",
      "3678      3675   23    1       Cork  10001 - 40000 \n",
      "\n",
      "      ClientID HeldLoanPreviously\n",
      "20          21                  1\n",
      "21          21                  0\n",
      "46          46                  0\n",
      "47          46                  0\n",
      "1221      1220                  0\n",
      "1222      1220                  0\n",
      "3676      3674                  0\n",
      "3677      3675                  0\n",
      "3678      3674                  0\n",
      "3679      3675                  1 \n",
      "\n",
      "      ClientID NumberProducts\n",
      "20          21              3\n",
      "45          46              3\n",
      "46          46              2\n",
      "1220      1220              4\n",
      "1221      1220              4\n",
      "3675      3674              1\n",
      "3676      3675              1\n",
      "3677      3674              2\n",
      "3678      3675              5 \n",
      "\n",
      "      ClientID  LastTXNAmount\n",
      "20          21         694.31\n",
      "45          46         476.30\n",
      "46          46           0.00\n",
      "1220      1220         316.90\n",
      "1221      1220         492.88\n",
      "3675      3674         838.98\n",
      "3676      3674           0.00\n",
      "3677      3675         789.95\n",
      "3678      3675         509.55 \n",
      "\n",
      "      ClientID  AverageNumbCA\n",
      "20          21          669.0\n",
      "45          46            0.0\n",
      "46          46            0.0\n",
      "1220      1220           57.0\n",
      "1221      1220           57.0\n",
      "3675      3674            0.0\n",
      "3676      3675            0.0\n",
      "3677      3674            0.0\n",
      "3678      3675         1636.0 \n",
      "\n",
      "      ClientID  LoanFlag\n",
      "20          21         0\n",
      "45          46         0\n",
      "46          46         0\n",
      "1220      1220         0\n",
      "1221      1220         0\n",
      "3675      3674         0\n",
      "3676      3675         0\n",
      "3677      3674         0\n",
      "3678      3675         0 \n",
      "\n"
     ]
    }
   ],
   "source": [
    "r_twice = [21, 46, 1220, 3674, 3675]\n",
    "print(Demog[Demog.ClientID.isin( r_twice)],'\\n')\n",
    "print(Loan[Loan.ClientID.isin( r_twice)],'\\n')\n",
    "print(Products[Products.ClientID.isin( r_twice)],'\\n')\n",
    "print(Transactions[Transactions.ClientID.isin( r_twice)],'\\n')\n",
    "print(TXN[TXN.ClientID.isin( r_twice)],'\\n')\n",
    "print(Flag_Loan[Flag_Loan.ClientID.isin( r_twice)],'\\n')"
   ]
  },
  {
   "cell_type": "markdown",
   "metadata": {},
   "source": [
    "### 1.8.3. Hence we will drop the rows with ClientID belonging to r_twice and the previous invalid detected previously"
   ]
  },
  {
   "cell_type": "code",
   "execution_count": 49,
   "metadata": {
    "collapsed": false
   },
   "outputs": [
    {
     "name": "stdout",
     "output_type": "stream",
     "text": [
      "[1897, 3895, 5895, 7895, 9895, 21, 46, 1220, 3674, 3675, 28, 70, 73, 111, 170, 6658]\n"
     ]
    }
   ],
   "source": [
    "rows_to_drop = ClientID_Age_Invalid + r_twice + ClientID_Loan_invalid + ClientID_Products_invalid\n",
    "print(rows_to_drop)"
   ]
  },
  {
   "cell_type": "markdown",
   "metadata": {},
   "source": [
    "### a) Function DropRecords"
   ]
  },
  {
   "cell_type": "code",
   "execution_count": 50,
   "metadata": {
    "collapsed": true
   },
   "outputs": [],
   "source": [
    "def DropRecords(df,rows_to_drop):\n",
    "    for r in rows_to_drop:\n",
    "        df = df.drop(df[df.ClientID == r].index)\n",
    "        df.reset_index(drop=True,inplace=True)\n",
    "    return df "
   ]
  },
  {
   "cell_type": "code",
   "execution_count": 52,
   "metadata": {
    "collapsed": false
   },
   "outputs": [],
   "source": [
    "Demog = DropRecords(Demog,rows_to_drop)\n",
    "Loan = DropRecords(Loan,rows_to_drop)\n",
    "Products = DropRecords(Products,rows_to_drop)\n",
    "Transactions = DropRecords(Transactions,rows_to_drop)\n",
    "TXN = DropRecords(TXN,rows_to_drop)\n",
    "Flag_Loan = DropRecords(Flag_Loan,rows_to_drop)\n"
   ]
  },
  {
   "cell_type": "markdown",
   "metadata": {},
   "source": [
    "### b) Converting into integer the elements of the columns Loan.HeldLoanPreviously of Products.NumberProducts"
   ]
  },
  {
   "cell_type": "code",
   "execution_count": 53,
   "metadata": {
    "collapsed": false
   },
   "outputs": [],
   "source": [
    "Loan.HeldLoanPreviously = Loan.HeldLoanPreviously.map(int)\n",
    "Products.NumberProducts = Products.NumberProducts.map(int)"
   ]
  },
  {
   "cell_type": "code",
   "execution_count": null,
   "metadata": {
    "collapsed": false
   },
   "outputs": [],
   "source": []
  },
  {
   "cell_type": "markdown",
   "metadata": {},
   "source": [
    "# B. Business Intelligence"
   ]
  },
  {
   "cell_type": "markdown",
   "metadata": {
    "collapsed": false
   },
   "source": [
    "## 1.0. Checking that all the tables are well aligned (ClientID in the same order)\n",
    "- ** Indeed, if this holds, we can juste concatenate directly all the tables, and this avoid doing join/merge **.\n",
    "- ** As we can see below, this is true **"
   ]
  },
  {
   "cell_type": "code",
   "execution_count": 54,
   "metadata": {
    "collapsed": false
   },
   "outputs": [
    {
     "name": "stdout",
     "output_type": "stream",
     "text": [
      "9984\n",
      "9984\n",
      "9984\n",
      "9984\n",
      "9984\n"
     ]
    }
   ],
   "source": [
    "print(len(Demog.ClientID))\n",
    "print(sum(Demog.ClientID == Transactions.ClientID))\n",
    "print(sum(Demog.ClientID == TXN.ClientID))\n",
    "print(sum(Demog.ClientID == Products.ClientID))\n",
    "print(sum(Demog.ClientID == Flag_Loan.ClientID))"
   ]
  },
  {
   "cell_type": "markdown",
   "metadata": {},
   "source": [
    "##  1.1. How Many Customers above 50 years old have taken up a loan?"
   ]
  },
  {
   "cell_type": "code",
   "execution_count": 55,
   "metadata": {
    "collapsed": false
   },
   "outputs": [
    {
     "data": {
      "text/html": [
       "<div>\n",
       "<table border=\"1\" class=\"dataframe\">\n",
       "  <thead>\n",
       "    <tr style=\"text-align: right;\">\n",
       "      <th></th>\n",
       "      <th>ClientID</th>\n",
       "      <th>Age</th>\n",
       "      <th>Sex</th>\n",
       "      <th>County</th>\n",
       "      <th>IncomeGroup</th>\n",
       "      <th>HeldLoanPreviously</th>\n",
       "    </tr>\n",
       "  </thead>\n",
       "  <tbody>\n",
       "    <tr>\n",
       "      <th>0</th>\n",
       "      <td>1</td>\n",
       "      <td>36</td>\n",
       "      <td>1</td>\n",
       "      <td>Cork</td>\n",
       "      <td>10001 - 40000</td>\n",
       "      <td>1</td>\n",
       "    </tr>\n",
       "    <tr>\n",
       "      <th>1</th>\n",
       "      <td>2</td>\n",
       "      <td>43</td>\n",
       "      <td>1</td>\n",
       "      <td>Cavan</td>\n",
       "      <td>0 - 10000</td>\n",
       "      <td>0</td>\n",
       "    </tr>\n",
       "    <tr>\n",
       "      <th>2</th>\n",
       "      <td>3</td>\n",
       "      <td>32</td>\n",
       "      <td>0</td>\n",
       "      <td>Dublin</td>\n",
       "      <td>10001 - 40000</td>\n",
       "      <td>0</td>\n",
       "    </tr>\n",
       "    <tr>\n",
       "      <th>3</th>\n",
       "      <td>4</td>\n",
       "      <td>52</td>\n",
       "      <td>1</td>\n",
       "      <td>Louth</td>\n",
       "      <td>40001 - 60000</td>\n",
       "      <td>1</td>\n",
       "    </tr>\n",
       "    <tr>\n",
       "      <th>4</th>\n",
       "      <td>5</td>\n",
       "      <td>63</td>\n",
       "      <td>0</td>\n",
       "      <td>Kilkenny</td>\n",
       "      <td>60001 - 100000</td>\n",
       "      <td>0</td>\n",
       "    </tr>\n",
       "  </tbody>\n",
       "</table>\n",
       "</div>"
      ],
      "text/plain": [
       "   ClientID  Age  Sex    County     IncomeGroup  HeldLoanPreviously\n",
       "0         1   36    1      Cork   10001 - 40000                   1\n",
       "1         2   43    1     Cavan       0 - 10000                   0\n",
       "2         3   32    0    Dublin   10001 - 40000                   0\n",
       "3         4   52    1     Louth   40001 - 60000                   1\n",
       "4         5   63    0  Kilkenny  60001 - 100000                   0"
      ]
     },
     "execution_count": 55,
     "metadata": {},
     "output_type": "execute_result"
    }
   ],
   "source": [
    "Demog_Loan = pd.concat([Demog,Loan.HeldLoanPreviously],axis=1)\n",
    "Demog_Loan.head()"
   ]
  },
  {
   "cell_type": "code",
   "execution_count": 56,
   "metadata": {
    "collapsed": false
   },
   "outputs": [],
   "source": [
    "Above_50_Loan = Demog_Loan[(Demog_Loan.Age>50) & (Demog_Loan.HeldLoanPreviously==1)]"
   ]
  },
  {
   "cell_type": "code",
   "execution_count": 57,
   "metadata": {
    "collapsed": false
   },
   "outputs": [
    {
     "name": "stdout",
     "output_type": "stream",
     "text": [
      "There are 977 customers above 50 years old and who have taken up a loan\n"
     ]
    }
   ],
   "source": [
    "#Above_50_Loan.count()\n",
    "t = len(Above_50_Loan)\n",
    "print('There are %d customers above 50 years old and who have taken up a loan'%t)"
   ]
  },
  {
   "cell_type": "markdown",
   "metadata": {},
   "source": [
    "## Answer 1.1. :\n",
    "### There are *977* customers above 50 years old and who have taken up a loan"
   ]
  },
  {
   "cell_type": "markdown",
   "metadata": {},
   "source": [
    "## 1.2. How Many Females aged 30 to 40 have more than 2 products?"
   ]
  },
  {
   "cell_type": "code",
   "execution_count": 58,
   "metadata": {
    "collapsed": false
   },
   "outputs": [
    {
     "data": {
      "text/html": [
       "<div>\n",
       "<table border=\"1\" class=\"dataframe\">\n",
       "  <thead>\n",
       "    <tr style=\"text-align: right;\">\n",
       "      <th></th>\n",
       "      <th>ClientID</th>\n",
       "      <th>Age</th>\n",
       "      <th>Sex</th>\n",
       "      <th>County</th>\n",
       "      <th>IncomeGroup</th>\n",
       "      <th>NumberProducts</th>\n",
       "    </tr>\n",
       "  </thead>\n",
       "  <tbody>\n",
       "    <tr>\n",
       "      <th>0</th>\n",
       "      <td>1</td>\n",
       "      <td>36</td>\n",
       "      <td>1</td>\n",
       "      <td>Cork</td>\n",
       "      <td>10001 - 40000</td>\n",
       "      <td>4</td>\n",
       "    </tr>\n",
       "    <tr>\n",
       "      <th>1</th>\n",
       "      <td>2</td>\n",
       "      <td>43</td>\n",
       "      <td>1</td>\n",
       "      <td>Cavan</td>\n",
       "      <td>0 - 10000</td>\n",
       "      <td>4</td>\n",
       "    </tr>\n",
       "    <tr>\n",
       "      <th>2</th>\n",
       "      <td>3</td>\n",
       "      <td>32</td>\n",
       "      <td>0</td>\n",
       "      <td>Dublin</td>\n",
       "      <td>10001 - 40000</td>\n",
       "      <td>2</td>\n",
       "    </tr>\n",
       "    <tr>\n",
       "      <th>3</th>\n",
       "      <td>4</td>\n",
       "      <td>52</td>\n",
       "      <td>1</td>\n",
       "      <td>Louth</td>\n",
       "      <td>40001 - 60000</td>\n",
       "      <td>2</td>\n",
       "    </tr>\n",
       "    <tr>\n",
       "      <th>4</th>\n",
       "      <td>5</td>\n",
       "      <td>63</td>\n",
       "      <td>0</td>\n",
       "      <td>Kilkenny</td>\n",
       "      <td>60001 - 100000</td>\n",
       "      <td>1</td>\n",
       "    </tr>\n",
       "  </tbody>\n",
       "</table>\n",
       "</div>"
      ],
      "text/plain": [
       "   ClientID  Age  Sex    County     IncomeGroup  NumberProducts\n",
       "0         1   36    1      Cork   10001 - 40000               4\n",
       "1         2   43    1     Cavan       0 - 10000               4\n",
       "2         3   32    0    Dublin   10001 - 40000               2\n",
       "3         4   52    1     Louth   40001 - 60000               2\n",
       "4         5   63    0  Kilkenny  60001 - 100000               1"
      ]
     },
     "execution_count": 58,
     "metadata": {},
     "output_type": "execute_result"
    }
   ],
   "source": [
    "Demog_Products= pd.concat([Demog,Products.NumberProducts],axis=1)\n",
    "Demog_Products.head()"
   ]
  },
  {
   "cell_type": "code",
   "execution_count": 59,
   "metadata": {
    "collapsed": false
   },
   "outputs": [],
   "source": [
    "Female_30_40_prod_2 = Demog_Products[(Demog_Products.Sex == 1) & (Demog_Products.Age>=30)\n",
    "                                    & (Demog_Products.Age <=40) & (Demog_Products.NumberProducts >=2)]"
   ]
  },
  {
   "cell_type": "code",
   "execution_count": 60,
   "metadata": {
    "collapsed": false
   },
   "outputs": [
    {
     "data": {
      "text/plain": [
       "818"
      ]
     },
     "execution_count": 60,
     "metadata": {},
     "output_type": "execute_result"
    }
   ],
   "source": [
    "len(Female_30_40_prod_2)"
   ]
  },
  {
   "cell_type": "markdown",
   "metadata": {},
   "source": [
    "## Answer 1.2. :\n",
    "### There are *818* Females aged 30 to 40 and having more than 2 products"
   ]
  },
  {
   "cell_type": "markdown",
   "metadata": {},
   "source": [
    "## 1.3. What is the average number of Current Account(CA) Transactions for males who had a previous Loans ?"
   ]
  },
  {
   "cell_type": "code",
   "execution_count": 61,
   "metadata": {
    "collapsed": false
   },
   "outputs": [
    {
     "data": {
      "text/html": [
       "<div>\n",
       "<table border=\"1\" class=\"dataframe\">\n",
       "  <thead>\n",
       "    <tr style=\"text-align: right;\">\n",
       "      <th></th>\n",
       "      <th>ClientID</th>\n",
       "      <th>Age</th>\n",
       "      <th>Sex</th>\n",
       "      <th>County</th>\n",
       "      <th>IncomeGroup</th>\n",
       "      <th>AverageNumbCA</th>\n",
       "      <th>HeldLoanPreviously</th>\n",
       "    </tr>\n",
       "  </thead>\n",
       "  <tbody>\n",
       "    <tr>\n",
       "      <th>0</th>\n",
       "      <td>1</td>\n",
       "      <td>36</td>\n",
       "      <td>1</td>\n",
       "      <td>Cork</td>\n",
       "      <td>10001 - 40000</td>\n",
       "      <td>58.0</td>\n",
       "      <td>1</td>\n",
       "    </tr>\n",
       "    <tr>\n",
       "      <th>1</th>\n",
       "      <td>2</td>\n",
       "      <td>43</td>\n",
       "      <td>1</td>\n",
       "      <td>Cavan</td>\n",
       "      <td>0 - 10000</td>\n",
       "      <td>2663.0</td>\n",
       "      <td>0</td>\n",
       "    </tr>\n",
       "    <tr>\n",
       "      <th>2</th>\n",
       "      <td>3</td>\n",
       "      <td>32</td>\n",
       "      <td>0</td>\n",
       "      <td>Dublin</td>\n",
       "      <td>10001 - 40000</td>\n",
       "      <td>46.0</td>\n",
       "      <td>0</td>\n",
       "    </tr>\n",
       "    <tr>\n",
       "      <th>3</th>\n",
       "      <td>4</td>\n",
       "      <td>52</td>\n",
       "      <td>1</td>\n",
       "      <td>Louth</td>\n",
       "      <td>40001 - 60000</td>\n",
       "      <td>0.0</td>\n",
       "      <td>1</td>\n",
       "    </tr>\n",
       "    <tr>\n",
       "      <th>4</th>\n",
       "      <td>5</td>\n",
       "      <td>63</td>\n",
       "      <td>0</td>\n",
       "      <td>Kilkenny</td>\n",
       "      <td>60001 - 100000</td>\n",
       "      <td>126.0</td>\n",
       "      <td>0</td>\n",
       "    </tr>\n",
       "  </tbody>\n",
       "</table>\n",
       "</div>"
      ],
      "text/plain": [
       "   ClientID  Age  Sex    County     IncomeGroup  AverageNumbCA  \\\n",
       "0         1   36    1      Cork   10001 - 40000           58.0   \n",
       "1         2   43    1     Cavan       0 - 10000         2663.0   \n",
       "2         3   32    0    Dublin   10001 - 40000           46.0   \n",
       "3         4   52    1     Louth   40001 - 60000            0.0   \n",
       "4         5   63    0  Kilkenny  60001 - 100000          126.0   \n",
       "\n",
       "   HeldLoanPreviously  \n",
       "0                   1  \n",
       "1                   0  \n",
       "2                   0  \n",
       "3                   1  \n",
       "4                   0  "
      ]
     },
     "execution_count": 61,
     "metadata": {},
     "output_type": "execute_result"
    }
   ],
   "source": [
    "Demog_TXN = pd.concat([Demog,TXN.AverageNumbCA,Loan.HeldLoanPreviously],axis=1)\n",
    "Demog_TXN.head()"
   ]
  },
  {
   "cell_type": "code",
   "execution_count": 62,
   "metadata": {
    "collapsed": false
   },
   "outputs": [],
   "source": [
    "Male_Demog_TXN = Demog_TXN[(Demog_TXN.Sex == 0) & (Demog_TXN.HeldLoanPreviously==1)]"
   ]
  },
  {
   "cell_type": "code",
   "execution_count": 63,
   "metadata": {
    "collapsed": false
   },
   "outputs": [
    {
     "name": "stdout",
     "output_type": "stream",
     "text": [
      "439.68\n"
     ]
    }
   ],
   "source": [
    "print(np.round(Male_Demog_TXN.AverageNumbCA.mean(),2))"
   ]
  },
  {
   "cell_type": "markdown",
   "metadata": {},
   "source": [
    "## Answer 1.3. :\n",
    "### The average number of Current Account(CA) Transactions for males who had a previous Loans is *439.68*"
   ]
  },
  {
   "cell_type": "markdown",
   "metadata": {},
   "source": [
    "## 1.4. How many females did not have a previous loans and who are aged\n",
    "** - Less than 20 ==> 85**\n",
    "\n",
    "** - 21 to 40     ==> 1425**\n",
    "\n",
    "** - 40+          ==> 2326**\n"
   ]
  },
  {
   "cell_type": "code",
   "execution_count": 64,
   "metadata": {
    "collapsed": false
   },
   "outputs": [
    {
     "data": {
      "text/plain": [
       "85"
      ]
     },
     "execution_count": 64,
     "metadata": {},
     "output_type": "execute_result"
    }
   ],
   "source": [
    "Demog_No_Loan_female_less_40 = Demog_Loan[(Demog_Loan.Sex==1) \n",
    "                                          & (Demog_Loan.HeldLoanPreviously==0) \n",
    "                                          & (Demog_Loan.Age<=20)]\n",
    "len(Demog_No_Loan_female_less_40)"
   ]
  },
  {
   "cell_type": "code",
   "execution_count": 65,
   "metadata": {
    "collapsed": false
   },
   "outputs": [
    {
     "data": {
      "text/plain": [
       "1425"
      ]
     },
     "execution_count": 65,
     "metadata": {},
     "output_type": "execute_result"
    }
   ],
   "source": [
    "Demog_No_Loan_female_21_40 = Demog_Loan[(Demog_Loan.Sex==1) \n",
    "                                        & (Demog_Loan.HeldLoanPreviously==0)  \n",
    "                                        & (Demog_Loan.Age<=40) \n",
    "                                        & (Demog_Loan.Age>=21) ]\n",
    "len(Demog_No_Loan_female_21_40)"
   ]
  },
  {
   "cell_type": "code",
   "execution_count": 66,
   "metadata": {
    "collapsed": false
   },
   "outputs": [
    {
     "data": {
      "text/plain": [
       "2326"
      ]
     },
     "execution_count": 66,
     "metadata": {},
     "output_type": "execute_result"
    }
   ],
   "source": [
    "Demog_No_Loan_female_over_40 = Demog_Loan[(Demog_Loan.Sex==1) \n",
    "                                          & (Demog_Loan.HeldLoanPreviously==0) \n",
    "                                          & (Demog_Loan.Age>40)]\n",
    "len(Demog_No_Loan_female_over_40)"
   ]
  },
  {
   "cell_type": "markdown",
   "metadata": {},
   "source": [
    "# C. Predictive Modelling"
   ]
  },
  {
   "cell_type": "markdown",
   "metadata": {},
   "source": [
    "# 1. Test data"
   ]
  },
  {
   "cell_type": "markdown",
   "metadata": {},
   "source": [
    "## 1.1. Test Demographic"
   ]
  },
  {
   "cell_type": "code",
   "execution_count": 67,
   "metadata": {
    "collapsed": false
   },
   "outputs": [
    {
     "name": "stdout",
     "output_type": "stream",
     "text": [
      "<class 'pandas.core.frame.DataFrame'>\n",
      "RangeIndex: 2000 entries, 0 to 1999\n",
      "Data columns (total 5 columns):\n",
      "ClientID       2000 non-null int64\n",
      "Age            2000 non-null int64\n",
      "Sex            2000 non-null int64\n",
      "County         2000 non-null object\n",
      "IncomeGroup    2000 non-null object\n",
      "dtypes: int64(3), object(2)\n",
      "memory usage: 78.2+ KB\n"
     ]
    }
   ],
   "source": [
    "Demog_test = pd.read_csv('Test Sample/TEST - Demographics.csv', sep = ',',encoding='latin-1')\n",
    "Demog_test.columns = ['ClientID','Age','Sex','County','IncomeGroup']\n",
    "Demog_test.ClientID.value_counts().head(3)\n",
    "Demog_test.info()\n"
   ]
  },
  {
   "cell_type": "code",
   "execution_count": 68,
   "metadata": {
    "collapsed": false
   },
   "outputs": [
    {
     "name": "stdout",
     "output_type": "stream",
     "text": [
      "           ClientID          Age          Sex\n",
      "count   2000.000000  2000.000000  2000.000000\n",
      "mean   11000.500000    48.386500     0.509000\n",
      "std      577.494589    17.710193     0.500044\n",
      "min    10001.000000    20.000000     0.000000\n",
      "25%    10500.750000    33.000000     0.000000\n",
      "50%    11000.500000    48.000000     1.000000\n",
      "75%    11500.250000    63.000000     1.000000\n",
      "max    12000.000000    80.000000     1.000000\n"
     ]
    }
   ],
   "source": [
    "print(Demog_test.describe())"
   ]
  },
  {
   "cell_type": "markdown",
   "metadata": {},
   "source": [
    "## 1.2. Test Loans"
   ]
  },
  {
   "cell_type": "code",
   "execution_count": 69,
   "metadata": {
    "collapsed": false
   },
   "outputs": [
    {
     "name": "stdout",
     "output_type": "stream",
     "text": [
      "<class 'pandas.core.frame.DataFrame'>\n",
      "RangeIndex: 10004 entries, 0 to 10003\n",
      "Data columns (total 2 columns):\n",
      "ClientID              10004 non-null int64\n",
      "HeldLoanPreviously    10004 non-null int64\n",
      "dtypes: int64(2)\n",
      "memory usage: 156.4 KB\n"
     ]
    }
   ],
   "source": [
    "Loan_test = pd.read_csv('Test Sample/TEST- Previous Loan Holdings.csv', sep = ',',encoding='latin-1')\n",
    "Loan_test = Loan_test[['Client ID', 'Held Loan previously']]\n",
    "Loan_test.columns = ['ClientID','HeldLoanPreviously']\n",
    "Loan_test.ClientID.value_counts().head(5)\n",
    "Loan_test.info()"
   ]
  },
  {
   "cell_type": "code",
   "execution_count": 70,
   "metadata": {
    "collapsed": false
   },
   "outputs": [
    {
     "name": "stdout",
     "output_type": "stream",
     "text": [
      "0    10001\n",
      "1    10002\n",
      "2    10003\n",
      "3    10004\n",
      "4    10005\n",
      "Name: ClientID, dtype: int64\n",
      "9999     20000\n",
      "10000    20001\n",
      "10001    20002\n",
      "10002    20003\n",
      "10003    20004\n",
      "Name: ClientID, dtype: int64\n"
     ]
    }
   ],
   "source": [
    "print(Loan_test.ClientID.head())\n",
    "print(Loan_test.ClientID.tail())"
   ]
  },
  {
   "cell_type": "markdown",
   "metadata": {},
   "source": [
    "### Here we will only keep the 2000 customers having a ClientID in the range [10001,12000]"
   ]
  },
  {
   "cell_type": "code",
   "execution_count": 71,
   "metadata": {
    "collapsed": false
   },
   "outputs": [
    {
     "name": "stdout",
     "output_type": "stream",
     "text": [
      "<class 'pandas.core.frame.DataFrame'>\n",
      "Int64Index: 2000 entries, 0 to 1999\n",
      "Data columns (total 2 columns):\n",
      "ClientID              2000 non-null int64\n",
      "HeldLoanPreviously    2000 non-null int64\n",
      "dtypes: int64(2)\n",
      "memory usage: 46.9 KB\n"
     ]
    }
   ],
   "source": [
    "Loan_test = Loan_test[Loan_test.ClientID<=12000]\n",
    "Loan_test.tail()\n",
    "Loan_test.info()"
   ]
  },
  {
   "cell_type": "markdown",
   "metadata": {},
   "source": [
    "## 1.3. Test Products"
   ]
  },
  {
   "cell_type": "code",
   "execution_count": 72,
   "metadata": {
    "collapsed": false
   },
   "outputs": [
    {
     "name": "stdout",
     "output_type": "stream",
     "text": [
      "<class 'pandas.core.frame.DataFrame'>\n",
      "RangeIndex: 2000 entries, 0 to 1999\n",
      "Data columns (total 2 columns):\n",
      "ClientID          2000 non-null int64\n",
      "NumberProducts    2000 non-null int64\n",
      "dtypes: int64(2)\n",
      "memory usage: 31.3 KB\n"
     ]
    }
   ],
   "source": [
    "Products_test = pd.read_csv('Test Sample/TEST - Product Held in Bank.csv', sep = ',',encoding='latin-1')\n",
    "Products_test = Products_test[['Unnamed: 0', 'Unnamed: 1']]\n",
    "Products_test.columns = ['ClientID','NumberProducts']\n",
    "Products_test.drop(Products_test.index[0],inplace=True)\n",
    "Products_test.reset_index(drop=True,inplace=True)\n",
    "Products_test.ClientID = Products_test.ClientID.map(int)\n",
    "Products_test.NumberProducts = Products_test.NumberProducts.map(int)\n",
    "Products_test.info()"
   ]
  },
  {
   "cell_type": "markdown",
   "metadata": {},
   "source": [
    "## 1.4. Test Transactions"
   ]
  },
  {
   "cell_type": "code",
   "execution_count": 73,
   "metadata": {
    "collapsed": false
   },
   "outputs": [
    {
     "data": {
      "text/html": [
       "<div>\n",
       "<table border=\"1\" class=\"dataframe\">\n",
       "  <thead>\n",
       "    <tr style=\"text-align: right;\">\n",
       "      <th></th>\n",
       "      <th>ClientID</th>\n",
       "      <th>LastTXNAmount</th>\n",
       "    </tr>\n",
       "  </thead>\n",
       "  <tbody>\n",
       "    <tr>\n",
       "      <th>1995</th>\n",
       "      <td>11996</td>\n",
       "      <td>766.85</td>\n",
       "    </tr>\n",
       "    <tr>\n",
       "      <th>1996</th>\n",
       "      <td>11997</td>\n",
       "      <td>60.83</td>\n",
       "    </tr>\n",
       "    <tr>\n",
       "      <th>1997</th>\n",
       "      <td>11998</td>\n",
       "      <td>561.44</td>\n",
       "    </tr>\n",
       "    <tr>\n",
       "      <th>1998</th>\n",
       "      <td>11999</td>\n",
       "      <td>1117.40</td>\n",
       "    </tr>\n",
       "    <tr>\n",
       "      <th>1999</th>\n",
       "      <td>12000</td>\n",
       "      <td>12.20</td>\n",
       "    </tr>\n",
       "  </tbody>\n",
       "</table>\n",
       "</div>"
      ],
      "text/plain": [
       "      ClientID  LastTXNAmount\n",
       "1995     11996         766.85\n",
       "1996     11997          60.83\n",
       "1997     11998         561.44\n",
       "1998     11999        1117.40\n",
       "1999     12000          12.20"
      ]
     },
     "execution_count": 73,
     "metadata": {},
     "output_type": "execute_result"
    }
   ],
   "source": [
    "Transactions_test = pd.read_csv('Model Build - Transactions out of Current Account.csv', sep = ',',encoding='latin-1')\n",
    "Transactions_test.columns = ['ClientID','NumTransactions','LastTXNAmount','MerchantCode','LastTransactionNarrative']\n",
    "Transactions.ClientID = Transactions.ClientID.map(np.int)\n",
    "Transactions_test = Transactions_test[['ClientID','LastTXNAmount']]\n",
    "Transactions_test = Transactions_test.sort_values('ClientID')\n",
    "Transactions_test.reset_index(drop=True,inplace=True)\n",
    "Transactions_test.tail()"
   ]
  },
  {
   "cell_type": "markdown",
   "metadata": {},
   "source": [
    "## 1.5. Test TXN"
   ]
  },
  {
   "cell_type": "code",
   "execution_count": 74,
   "metadata": {
    "collapsed": false
   },
   "outputs": [
    {
     "name": "stdout",
     "output_type": "stream",
     "text": [
      "<class 'pandas.core.frame.DataFrame'>\n",
      "RangeIndex: 2000 entries, 0 to 1999\n",
      "Data columns (total 2 columns):\n",
      "ClientID         2000 non-null int64\n",
      "AverageNumbCA    2000 non-null float64\n",
      "dtypes: float64(1), int64(1)\n",
      "memory usage: 31.3 KB\n"
     ]
    }
   ],
   "source": [
    "TXN_test = pd.read_csv('Test Sample/TEST - TXN Amount.csv', header=None, sep = ',',encoding='latin-1')\n",
    "TXN_test.columns\n",
    "TXN_test = TXN_test[[0,1]]\n",
    "TXN_test.drop(TXN_test.index[[0,1]],inplace=True)\n",
    "TXN_test.columns = ['ClientID','AverageNumbCA']\n",
    "TXN_test.ClientID = TXN_test.ClientID.map(int)\n",
    "TXN_test.AverageNumbCA = TXN_test.AverageNumbCA.apply(lambda x: np.float(x.replace(',','')))\n",
    "TXN_test.reset_index(drop=True,inplace=True)\n",
    "TXN_test.info()\n"
   ]
  },
  {
   "cell_type": "markdown",
   "metadata": {},
   "source": [
    "# 2. Train and Test Global Data"
   ]
  },
  {
   "cell_type": "markdown",
   "metadata": {},
   "source": [
    "## 2.1. Global train data frame\n",
    "\n",
    "- We will concatenate the 6 different tables \n",
    "- Then, we will merge the resulting table with the County_population_cat table"
   ]
  },
  {
   "cell_type": "code",
   "execution_count": 75,
   "metadata": {
    "collapsed": false
   },
   "outputs": [],
   "source": [
    "tr = [Demog, \n",
    "      Loan.drop('ClientID',axis=1),\n",
    "      Products.drop('ClientID',axis=1), \n",
    "      Transactions.drop('ClientID',axis=1),\n",
    "      TXN.drop('ClientID',axis=1), \n",
    "      Flag_Loan.drop('ClientID',axis=1)]\n",
    "df_train = pd.concat(tr,axis=1)"
   ]
  },
  {
   "cell_type": "code",
   "execution_count": 76,
   "metadata": {
    "collapsed": false
   },
   "outputs": [
    {
     "name": "stdout",
     "output_type": "stream",
     "text": [
      "<class 'pandas.core.frame.DataFrame'>\n",
      "RangeIndex: 9984 entries, 0 to 9983\n",
      "Data columns (total 10 columns):\n",
      "ClientID              9984 non-null int64\n",
      "Age                   9984 non-null int64\n",
      "Sex                   9984 non-null int64\n",
      "County                9984 non-null object\n",
      "IncomeGroup           9984 non-null object\n",
      "HeldLoanPreviously    9984 non-null int64\n",
      "NumberProducts        9984 non-null int64\n",
      "LastTXNAmount         9984 non-null float64\n",
      "AverageNumbCA         9984 non-null float64\n",
      "LoanFlag              9984 non-null int64\n",
      "dtypes: float64(2), int64(6), object(2)\n",
      "memory usage: 780.1+ KB\n"
     ]
    }
   ],
   "source": [
    "df_train.info()"
   ]
  },
  {
   "cell_type": "code",
   "execution_count": 77,
   "metadata": {
    "collapsed": false
   },
   "outputs": [
    {
     "data": {
      "text/html": [
       "<div>\n",
       "<table border=\"1\" class=\"dataframe\">\n",
       "  <thead>\n",
       "    <tr style=\"text-align: right;\">\n",
       "      <th></th>\n",
       "      <th>Population_class</th>\n",
       "    </tr>\n",
       "    <tr>\n",
       "      <th>County</th>\n",
       "      <th></th>\n",
       "    </tr>\n",
       "  </thead>\n",
       "  <tbody>\n",
       "    <tr>\n",
       "      <th>Dublin</th>\n",
       "      <td>LargeSize</td>\n",
       "    </tr>\n",
       "    <tr>\n",
       "      <th>Antrim</th>\n",
       "      <td>LargeSize</td>\n",
       "    </tr>\n",
       "    <tr>\n",
       "      <th>Down</th>\n",
       "      <td>LargeSize</td>\n",
       "    </tr>\n",
       "    <tr>\n",
       "      <th>Cork</th>\n",
       "      <td>LargeSize</td>\n",
       "    </tr>\n",
       "    <tr>\n",
       "      <th>Fingal</th>\n",
       "      <td>LargeSize</td>\n",
       "    </tr>\n",
       "  </tbody>\n",
       "</table>\n",
       "</div>"
      ],
      "text/plain": [
       "       Population_class\n",
       "County                 \n",
       "Dublin        LargeSize\n",
       "Antrim        LargeSize\n",
       "Down          LargeSize\n",
       "Cork          LargeSize\n",
       "Fingal        LargeSize"
      ]
     },
     "execution_count": 77,
     "metadata": {},
     "output_type": "execute_result"
    }
   ],
   "source": [
    "County_population_cat.set_index('County',drop=True,inplace=True)\n",
    "County_population_cat.head()"
   ]
  },
  {
   "cell_type": "code",
   "execution_count": 78,
   "metadata": {
    "collapsed": false
   },
   "outputs": [
    {
     "data": {
      "text/html": [
       "<div>\n",
       "<table border=\"1\" class=\"dataframe\">\n",
       "  <thead>\n",
       "    <tr style=\"text-align: right;\">\n",
       "      <th></th>\n",
       "      <th>ClientID</th>\n",
       "      <th>Age</th>\n",
       "      <th>Sex</th>\n",
       "      <th>IncomeGroup</th>\n",
       "      <th>HeldLoanPreviously</th>\n",
       "      <th>NumberProducts</th>\n",
       "      <th>LastTXNAmount</th>\n",
       "      <th>AverageNumbCA</th>\n",
       "      <th>LoanFlag</th>\n",
       "      <th>Population_class</th>\n",
       "    </tr>\n",
       "  </thead>\n",
       "  <tbody>\n",
       "    <tr>\n",
       "      <th>0</th>\n",
       "      <td>1</td>\n",
       "      <td>36</td>\n",
       "      <td>1</td>\n",
       "      <td>10001 - 40000</td>\n",
       "      <td>1</td>\n",
       "      <td>4</td>\n",
       "      <td>0.00</td>\n",
       "      <td>58.0</td>\n",
       "      <td>0</td>\n",
       "      <td>LargeSize</td>\n",
       "    </tr>\n",
       "    <tr>\n",
       "      <th>1</th>\n",
       "      <td>2</td>\n",
       "      <td>43</td>\n",
       "      <td>1</td>\n",
       "      <td>0 - 10000</td>\n",
       "      <td>0</td>\n",
       "      <td>4</td>\n",
       "      <td>83.66</td>\n",
       "      <td>2663.0</td>\n",
       "      <td>0</td>\n",
       "      <td>NormalSize</td>\n",
       "    </tr>\n",
       "    <tr>\n",
       "      <th>2</th>\n",
       "      <td>3</td>\n",
       "      <td>32</td>\n",
       "      <td>0</td>\n",
       "      <td>10001 - 40000</td>\n",
       "      <td>0</td>\n",
       "      <td>2</td>\n",
       "      <td>526.18</td>\n",
       "      <td>46.0</td>\n",
       "      <td>0</td>\n",
       "      <td>LargeSize</td>\n",
       "    </tr>\n",
       "    <tr>\n",
       "      <th>3</th>\n",
       "      <td>4</td>\n",
       "      <td>52</td>\n",
       "      <td>1</td>\n",
       "      <td>40001 - 60000</td>\n",
       "      <td>1</td>\n",
       "      <td>2</td>\n",
       "      <td>70.68</td>\n",
       "      <td>0.0</td>\n",
       "      <td>0</td>\n",
       "      <td>NormalSize</td>\n",
       "    </tr>\n",
       "    <tr>\n",
       "      <th>4</th>\n",
       "      <td>5</td>\n",
       "      <td>63</td>\n",
       "      <td>0</td>\n",
       "      <td>60001 - 100000</td>\n",
       "      <td>0</td>\n",
       "      <td>1</td>\n",
       "      <td>259.07</td>\n",
       "      <td>126.0</td>\n",
       "      <td>0</td>\n",
       "      <td>NormalSize</td>\n",
       "    </tr>\n",
       "  </tbody>\n",
       "</table>\n",
       "</div>"
      ],
      "text/plain": [
       "   ClientID  Age  Sex     IncomeGroup  HeldLoanPreviously  NumberProducts  \\\n",
       "0         1   36    1   10001 - 40000                   1               4   \n",
       "1         2   43    1       0 - 10000                   0               4   \n",
       "2         3   32    0   10001 - 40000                   0               2   \n",
       "3         4   52    1   40001 - 60000                   1               2   \n",
       "4         5   63    0  60001 - 100000                   0               1   \n",
       "\n",
       "   LastTXNAmount  AverageNumbCA  LoanFlag Population_class  \n",
       "0           0.00           58.0         0        LargeSize  \n",
       "1          83.66         2663.0         0       NormalSize  \n",
       "2         526.18           46.0         0        LargeSize  \n",
       "3          70.68            0.0         0       NormalSize  \n",
       "4         259.07          126.0         0       NormalSize  "
      ]
     },
     "execution_count": 78,
     "metadata": {},
     "output_type": "execute_result"
    }
   ],
   "source": [
    "df_train = df_train.join(County_population_cat, on='County', how='left')\n",
    "df_train.drop('County',axis=1,inplace=True)\n",
    "df_train.head()"
   ]
  },
  {
   "cell_type": "markdown",
   "metadata": {
    "collapsed": false
   },
   "source": [
    "## 2.2. Global test data frame\n"
   ]
  },
  {
   "cell_type": "code",
   "execution_count": 79,
   "metadata": {
    "collapsed": false
   },
   "outputs": [
    {
     "data": {
      "text/html": [
       "<div>\n",
       "<table border=\"1\" class=\"dataframe\">\n",
       "  <thead>\n",
       "    <tr style=\"text-align: right;\">\n",
       "      <th></th>\n",
       "      <th>ClientID</th>\n",
       "      <th>Age</th>\n",
       "      <th>Sex</th>\n",
       "      <th>County</th>\n",
       "      <th>IncomeGroup</th>\n",
       "      <th>HeldLoanPreviously</th>\n",
       "      <th>NumberProducts</th>\n",
       "      <th>LastTXNAmount</th>\n",
       "      <th>AverageNumbCA</th>\n",
       "    </tr>\n",
       "  </thead>\n",
       "  <tbody>\n",
       "    <tr>\n",
       "      <th>0</th>\n",
       "      <td>10001</td>\n",
       "      <td>59</td>\n",
       "      <td>1</td>\n",
       "      <td>Cork</td>\n",
       "      <td>10001 - 40000</td>\n",
       "      <td>0</td>\n",
       "      <td>4</td>\n",
       "      <td>12.59</td>\n",
       "      <td>22.0</td>\n",
       "    </tr>\n",
       "    <tr>\n",
       "      <th>1</th>\n",
       "      <td>10002</td>\n",
       "      <td>27</td>\n",
       "      <td>1</td>\n",
       "      <td>Kerry</td>\n",
       "      <td>10001 - 40000</td>\n",
       "      <td>0</td>\n",
       "      <td>4</td>\n",
       "      <td>30.00</td>\n",
       "      <td>11.0</td>\n",
       "    </tr>\n",
       "    <tr>\n",
       "      <th>2</th>\n",
       "      <td>10003</td>\n",
       "      <td>58</td>\n",
       "      <td>0</td>\n",
       "      <td>Louth</td>\n",
       "      <td>10001 - 40000</td>\n",
       "      <td>0</td>\n",
       "      <td>2</td>\n",
       "      <td>1003.01</td>\n",
       "      <td>9.0</td>\n",
       "    </tr>\n",
       "    <tr>\n",
       "      <th>3</th>\n",
       "      <td>10004</td>\n",
       "      <td>45</td>\n",
       "      <td>1</td>\n",
       "      <td>Dublin</td>\n",
       "      <td>60001 - 100000</td>\n",
       "      <td>0</td>\n",
       "      <td>2</td>\n",
       "      <td>873.25</td>\n",
       "      <td>34.0</td>\n",
       "    </tr>\n",
       "    <tr>\n",
       "      <th>4</th>\n",
       "      <td>10005</td>\n",
       "      <td>21</td>\n",
       "      <td>0</td>\n",
       "      <td>Dublin</td>\n",
       "      <td>40001 - 60000</td>\n",
       "      <td>0</td>\n",
       "      <td>1</td>\n",
       "      <td>926.75</td>\n",
       "      <td>38.0</td>\n",
       "    </tr>\n",
       "  </tbody>\n",
       "</table>\n",
       "</div>"
      ],
      "text/plain": [
       "   ClientID  Age  Sex  County     IncomeGroup  HeldLoanPreviously  \\\n",
       "0     10001   59    1    Cork   10001 - 40000                   0   \n",
       "1     10002   27    1   Kerry   10001 - 40000                   0   \n",
       "2     10003   58    0   Louth   10001 - 40000                   0   \n",
       "3     10004   45    1  Dublin  60001 - 100000                   0   \n",
       "4     10005   21    0  Dublin   40001 - 60000                   0   \n",
       "\n",
       "   NumberProducts  LastTXNAmount  AverageNumbCA  \n",
       "0               4          12.59           22.0  \n",
       "1               4          30.00           11.0  \n",
       "2               2        1003.01            9.0  \n",
       "3               2         873.25           34.0  \n",
       "4               1         926.75           38.0  "
      ]
     },
     "execution_count": 79,
     "metadata": {},
     "output_type": "execute_result"
    }
   ],
   "source": [
    "ts = [Demog_test, Loan_test.drop('ClientID',axis=1), Products_test.drop('ClientID',axis=1), \n",
    "      Transactions_test.drop('ClientID',axis=1), TXN_test.drop('ClientID',axis=1)]\n",
    "df_test = pd.concat(ts,axis=1)\n",
    "df_test.head()"
   ]
  },
  {
   "cell_type": "code",
   "execution_count": 80,
   "metadata": {
    "collapsed": false
   },
   "outputs": [
    {
     "data": {
      "text/html": [
       "<div>\n",
       "<table border=\"1\" class=\"dataframe\">\n",
       "  <thead>\n",
       "    <tr style=\"text-align: right;\">\n",
       "      <th></th>\n",
       "      <th>ClientID</th>\n",
       "      <th>Age</th>\n",
       "      <th>Sex</th>\n",
       "      <th>IncomeGroup</th>\n",
       "      <th>HeldLoanPreviously</th>\n",
       "      <th>NumberProducts</th>\n",
       "      <th>LastTXNAmount</th>\n",
       "      <th>AverageNumbCA</th>\n",
       "      <th>Population_class</th>\n",
       "    </tr>\n",
       "  </thead>\n",
       "  <tbody>\n",
       "    <tr>\n",
       "      <th>0</th>\n",
       "      <td>10001</td>\n",
       "      <td>59</td>\n",
       "      <td>1</td>\n",
       "      <td>10001 - 40000</td>\n",
       "      <td>0</td>\n",
       "      <td>4</td>\n",
       "      <td>12.59</td>\n",
       "      <td>22.0</td>\n",
       "      <td>LargeSize</td>\n",
       "    </tr>\n",
       "    <tr>\n",
       "      <th>1</th>\n",
       "      <td>10002</td>\n",
       "      <td>27</td>\n",
       "      <td>1</td>\n",
       "      <td>10001 - 40000</td>\n",
       "      <td>0</td>\n",
       "      <td>4</td>\n",
       "      <td>30.00</td>\n",
       "      <td>11.0</td>\n",
       "      <td>LargeSize</td>\n",
       "    </tr>\n",
       "    <tr>\n",
       "      <th>2</th>\n",
       "      <td>10003</td>\n",
       "      <td>58</td>\n",
       "      <td>0</td>\n",
       "      <td>10001 - 40000</td>\n",
       "      <td>0</td>\n",
       "      <td>2</td>\n",
       "      <td>1003.01</td>\n",
       "      <td>9.0</td>\n",
       "      <td>NormalSize</td>\n",
       "    </tr>\n",
       "    <tr>\n",
       "      <th>3</th>\n",
       "      <td>10004</td>\n",
       "      <td>45</td>\n",
       "      <td>1</td>\n",
       "      <td>60001 - 100000</td>\n",
       "      <td>0</td>\n",
       "      <td>2</td>\n",
       "      <td>873.25</td>\n",
       "      <td>34.0</td>\n",
       "      <td>LargeSize</td>\n",
       "    </tr>\n",
       "    <tr>\n",
       "      <th>4</th>\n",
       "      <td>10005</td>\n",
       "      <td>21</td>\n",
       "      <td>0</td>\n",
       "      <td>40001 - 60000</td>\n",
       "      <td>0</td>\n",
       "      <td>1</td>\n",
       "      <td>926.75</td>\n",
       "      <td>38.0</td>\n",
       "      <td>LargeSize</td>\n",
       "    </tr>\n",
       "  </tbody>\n",
       "</table>\n",
       "</div>"
      ],
      "text/plain": [
       "   ClientID  Age  Sex     IncomeGroup  HeldLoanPreviously  NumberProducts  \\\n",
       "0     10001   59    1   10001 - 40000                   0               4   \n",
       "1     10002   27    1   10001 - 40000                   0               4   \n",
       "2     10003   58    0   10001 - 40000                   0               2   \n",
       "3     10004   45    1  60001 - 100000                   0               2   \n",
       "4     10005   21    0   40001 - 60000                   0               1   \n",
       "\n",
       "   LastTXNAmount  AverageNumbCA Population_class  \n",
       "0          12.59           22.0        LargeSize  \n",
       "1          30.00           11.0        LargeSize  \n",
       "2        1003.01            9.0       NormalSize  \n",
       "3         873.25           34.0        LargeSize  \n",
       "4         926.75           38.0        LargeSize  "
      ]
     },
     "execution_count": 80,
     "metadata": {},
     "output_type": "execute_result"
    }
   ],
   "source": [
    "df_test = df_test.join(County_population_cat, on='County', how='left')\n",
    "df_test.drop('County',axis=1,inplace=True)\n",
    "df_test.head()"
   ]
  },
  {
   "cell_type": "code",
   "execution_count": 82,
   "metadata": {
    "collapsed": false
   },
   "outputs": [
    {
     "name": "stdout",
     "output_type": "stream",
     "text": [
      "10001 - 40000     5573\n",
      "60001 - 100000    1734\n",
      "40001 - 60000     1174\n",
      "100000+           1133\n",
      "0 - 10000          370\n",
      "Name: IncomeGroup, dtype: int64 \n",
      "\n",
      "10001 - 40000     1130\n",
      "60001 - 100000     371\n",
      "40001 - 60000      226\n",
      "100000+            203\n",
      "0 - 10000           70\n",
      "Name: IncomeGroup, dtype: int64\n"
     ]
    }
   ],
   "source": [
    "print(df_train.IncomeGroup.value_counts(),'\\n')\n",
    "print(df_test.IncomeGroup.value_counts())"
   ]
  },
  {
   "cell_type": "code",
   "execution_count": 83,
   "metadata": {
    "collapsed": false
   },
   "outputs": [
    {
     "data": {
      "text/html": [
       "<div>\n",
       "<table border=\"1\" class=\"dataframe\">\n",
       "  <thead>\n",
       "    <tr style=\"text-align: right;\">\n",
       "      <th></th>\n",
       "      <th>IncomeGroup_0_10000</th>\n",
       "      <th>IncomeGroup_sup_100000</th>\n",
       "      <th>IncomeGroup_10001_40000</th>\n",
       "      <th>IncomeGroup_40001_60000</th>\n",
       "      <th>IncomeGroup_60001_100000</th>\n",
       "    </tr>\n",
       "  </thead>\n",
       "  <tbody>\n",
       "    <tr>\n",
       "      <th>0</th>\n",
       "      <td>0</td>\n",
       "      <td>0</td>\n",
       "      <td>1</td>\n",
       "      <td>0</td>\n",
       "      <td>0</td>\n",
       "    </tr>\n",
       "    <tr>\n",
       "      <th>1</th>\n",
       "      <td>1</td>\n",
       "      <td>0</td>\n",
       "      <td>0</td>\n",
       "      <td>0</td>\n",
       "      <td>0</td>\n",
       "    </tr>\n",
       "    <tr>\n",
       "      <th>2</th>\n",
       "      <td>0</td>\n",
       "      <td>0</td>\n",
       "      <td>1</td>\n",
       "      <td>0</td>\n",
       "      <td>0</td>\n",
       "    </tr>\n",
       "    <tr>\n",
       "      <th>3</th>\n",
       "      <td>0</td>\n",
       "      <td>0</td>\n",
       "      <td>0</td>\n",
       "      <td>1</td>\n",
       "      <td>0</td>\n",
       "    </tr>\n",
       "    <tr>\n",
       "      <th>4</th>\n",
       "      <td>0</td>\n",
       "      <td>0</td>\n",
       "      <td>0</td>\n",
       "      <td>0</td>\n",
       "      <td>1</td>\n",
       "    </tr>\n",
       "  </tbody>\n",
       "</table>\n",
       "</div>"
      ],
      "text/plain": [
       "   IncomeGroup_0_10000  IncomeGroup_sup_100000  IncomeGroup_10001_40000  \\\n",
       "0                    0                       0                        1   \n",
       "1                    1                       0                        0   \n",
       "2                    0                       0                        1   \n",
       "3                    0                       0                        0   \n",
       "4                    0                       0                        0   \n",
       "\n",
       "   IncomeGroup_40001_60000  IncomeGroup_60001_100000  \n",
       "0                        0                         0  \n",
       "1                        0                         0  \n",
       "2                        0                         0  \n",
       "3                        1                         0  \n",
       "4                        0                         1  "
      ]
     },
     "execution_count": 83,
     "metadata": {},
     "output_type": "execute_result"
    }
   ],
   "source": [
    "IncomGroup_Dummy = pd.get_dummies(df_train['IncomeGroup'], prefix='IncomeGroup')\n",
    "Population_Dummy = pd.get_dummies(df_train['Population_class'], prefix='Population')\n",
    "\n",
    "IncomGroup_Dummy = IncomGroup_Dummy.rename(columns={\n",
    "        'IncomeGroup_0 - 10000':'IncomeGroup_0_10000',\n",
    "        'IncomeGroup_100000+':'IncomeGroup_sup_100000',\n",
    "        'IncomeGroup_10001 - 40000':'IncomeGroup_10001_40000',\n",
    "        'IncomeGroup_40001 - 60000':'IncomeGroup_40001_60000',\n",
    "        'IncomeGroup_60001 - 100000':'IncomeGroup_60001_100000'\n",
    "    })\n",
    "IncomGroup_Dummy.head()"
   ]
  },
  {
   "cell_type": "markdown",
   "metadata": {
    "collapsed": false
   },
   "source": [
    "### 2.2.2. Dummification of categorical variables"
   ]
  },
  {
   "cell_type": "code",
   "execution_count": 84,
   "metadata": {
    "collapsed": false
   },
   "outputs": [
    {
     "data": {
      "text/html": [
       "<div>\n",
       "<table border=\"1\" class=\"dataframe\">\n",
       "  <thead>\n",
       "    <tr style=\"text-align: right;\">\n",
       "      <th></th>\n",
       "      <th>ClientID</th>\n",
       "      <th>Age</th>\n",
       "      <th>Sex</th>\n",
       "      <th>HeldLoanPreviously</th>\n",
       "      <th>NumberProducts</th>\n",
       "      <th>LastTXNAmount</th>\n",
       "      <th>AverageNumbCA</th>\n",
       "      <th>LoanFlag</th>\n",
       "      <th>IncomeGroup_0_10000</th>\n",
       "      <th>IncomeGroup_sup_100000</th>\n",
       "      <th>IncomeGroup_10001_40000</th>\n",
       "      <th>IncomeGroup_40001_60000</th>\n",
       "      <th>IncomeGroup_60001_100000</th>\n",
       "      <th>Population_LargeSize</th>\n",
       "      <th>Population_NormalSize</th>\n",
       "    </tr>\n",
       "  </thead>\n",
       "  <tbody>\n",
       "    <tr>\n",
       "      <th>0</th>\n",
       "      <td>1</td>\n",
       "      <td>36</td>\n",
       "      <td>1</td>\n",
       "      <td>1</td>\n",
       "      <td>4</td>\n",
       "      <td>0.00</td>\n",
       "      <td>58.0</td>\n",
       "      <td>0</td>\n",
       "      <td>0</td>\n",
       "      <td>0</td>\n",
       "      <td>1</td>\n",
       "      <td>0</td>\n",
       "      <td>0</td>\n",
       "      <td>1</td>\n",
       "      <td>0</td>\n",
       "    </tr>\n",
       "    <tr>\n",
       "      <th>1</th>\n",
       "      <td>2</td>\n",
       "      <td>43</td>\n",
       "      <td>1</td>\n",
       "      <td>0</td>\n",
       "      <td>4</td>\n",
       "      <td>83.66</td>\n",
       "      <td>2663.0</td>\n",
       "      <td>0</td>\n",
       "      <td>1</td>\n",
       "      <td>0</td>\n",
       "      <td>0</td>\n",
       "      <td>0</td>\n",
       "      <td>0</td>\n",
       "      <td>0</td>\n",
       "      <td>1</td>\n",
       "    </tr>\n",
       "    <tr>\n",
       "      <th>2</th>\n",
       "      <td>3</td>\n",
       "      <td>32</td>\n",
       "      <td>0</td>\n",
       "      <td>0</td>\n",
       "      <td>2</td>\n",
       "      <td>526.18</td>\n",
       "      <td>46.0</td>\n",
       "      <td>0</td>\n",
       "      <td>0</td>\n",
       "      <td>0</td>\n",
       "      <td>1</td>\n",
       "      <td>0</td>\n",
       "      <td>0</td>\n",
       "      <td>1</td>\n",
       "      <td>0</td>\n",
       "    </tr>\n",
       "    <tr>\n",
       "      <th>3</th>\n",
       "      <td>4</td>\n",
       "      <td>52</td>\n",
       "      <td>1</td>\n",
       "      <td>1</td>\n",
       "      <td>2</td>\n",
       "      <td>70.68</td>\n",
       "      <td>0.0</td>\n",
       "      <td>0</td>\n",
       "      <td>0</td>\n",
       "      <td>0</td>\n",
       "      <td>0</td>\n",
       "      <td>1</td>\n",
       "      <td>0</td>\n",
       "      <td>0</td>\n",
       "      <td>1</td>\n",
       "    </tr>\n",
       "    <tr>\n",
       "      <th>4</th>\n",
       "      <td>5</td>\n",
       "      <td>63</td>\n",
       "      <td>0</td>\n",
       "      <td>0</td>\n",
       "      <td>1</td>\n",
       "      <td>259.07</td>\n",
       "      <td>126.0</td>\n",
       "      <td>0</td>\n",
       "      <td>0</td>\n",
       "      <td>0</td>\n",
       "      <td>0</td>\n",
       "      <td>0</td>\n",
       "      <td>1</td>\n",
       "      <td>0</td>\n",
       "      <td>1</td>\n",
       "    </tr>\n",
       "  </tbody>\n",
       "</table>\n",
       "</div>"
      ],
      "text/plain": [
       "   ClientID  Age  Sex  HeldLoanPreviously  NumberProducts  LastTXNAmount  \\\n",
       "0         1   36    1                   1               4           0.00   \n",
       "1         2   43    1                   0               4          83.66   \n",
       "2         3   32    0                   0               2         526.18   \n",
       "3         4   52    1                   1               2          70.68   \n",
       "4         5   63    0                   0               1         259.07   \n",
       "\n",
       "   AverageNumbCA  LoanFlag  IncomeGroup_0_10000  IncomeGroup_sup_100000  \\\n",
       "0           58.0         0                    0                       0   \n",
       "1         2663.0         0                    1                       0   \n",
       "2           46.0         0                    0                       0   \n",
       "3            0.0         0                    0                       0   \n",
       "4          126.0         0                    0                       0   \n",
       "\n",
       "   IncomeGroup_10001_40000  IncomeGroup_40001_60000  IncomeGroup_60001_100000  \\\n",
       "0                        1                        0                         0   \n",
       "1                        0                        0                         0   \n",
       "2                        1                        0                         0   \n",
       "3                        0                        1                         0   \n",
       "4                        0                        0                         1   \n",
       "\n",
       "   Population_LargeSize  Population_NormalSize  \n",
       "0                     1                      0  \n",
       "1                     0                      1  \n",
       "2                     1                      0  \n",
       "3                     0                      1  \n",
       "4                     0                      1  "
      ]
     },
     "execution_count": 84,
     "metadata": {},
     "output_type": "execute_result"
    }
   ],
   "source": [
    "df_train = pd.concat([df_train, IncomGroup_Dummy], axis=1)\n",
    "df_train = pd.concat([df_train, Population_Dummy], axis=1)\n",
    "df_train.drop('IncomeGroup',axis=1,inplace=True)\n",
    "df_train.drop('Population_class',axis=1,inplace=True)\n",
    "df_train.head()"
   ]
  },
  {
   "cell_type": "code",
   "execution_count": 85,
   "metadata": {
    "collapsed": false
   },
   "outputs": [
    {
     "data": {
      "text/html": [
       "<div>\n",
       "<table border=\"1\" class=\"dataframe\">\n",
       "  <thead>\n",
       "    <tr style=\"text-align: right;\">\n",
       "      <th></th>\n",
       "      <th>ClientID</th>\n",
       "      <th>Age</th>\n",
       "      <th>Sex</th>\n",
       "      <th>HeldLoanPreviously</th>\n",
       "      <th>NumberProducts</th>\n",
       "      <th>LastTXNAmount</th>\n",
       "      <th>AverageNumbCA</th>\n",
       "      <th>IncomeGroup_0_10000</th>\n",
       "      <th>IncomeGroup_sup_100000</th>\n",
       "      <th>IncomeGroup_10001_40000</th>\n",
       "      <th>IncomeGroup_40001_60000</th>\n",
       "      <th>IncomeGroup_60001_100000</th>\n",
       "      <th>Population_LargeSize</th>\n",
       "      <th>Population_NormalSize</th>\n",
       "    </tr>\n",
       "  </thead>\n",
       "  <tbody>\n",
       "    <tr>\n",
       "      <th>0</th>\n",
       "      <td>10001</td>\n",
       "      <td>59</td>\n",
       "      <td>1</td>\n",
       "      <td>0</td>\n",
       "      <td>4</td>\n",
       "      <td>12.59</td>\n",
       "      <td>22.0</td>\n",
       "      <td>0</td>\n",
       "      <td>0</td>\n",
       "      <td>1</td>\n",
       "      <td>0</td>\n",
       "      <td>0</td>\n",
       "      <td>1</td>\n",
       "      <td>0</td>\n",
       "    </tr>\n",
       "    <tr>\n",
       "      <th>1</th>\n",
       "      <td>10002</td>\n",
       "      <td>27</td>\n",
       "      <td>1</td>\n",
       "      <td>0</td>\n",
       "      <td>4</td>\n",
       "      <td>30.00</td>\n",
       "      <td>11.0</td>\n",
       "      <td>0</td>\n",
       "      <td>0</td>\n",
       "      <td>1</td>\n",
       "      <td>0</td>\n",
       "      <td>0</td>\n",
       "      <td>1</td>\n",
       "      <td>0</td>\n",
       "    </tr>\n",
       "    <tr>\n",
       "      <th>2</th>\n",
       "      <td>10003</td>\n",
       "      <td>58</td>\n",
       "      <td>0</td>\n",
       "      <td>0</td>\n",
       "      <td>2</td>\n",
       "      <td>1003.01</td>\n",
       "      <td>9.0</td>\n",
       "      <td>0</td>\n",
       "      <td>0</td>\n",
       "      <td>1</td>\n",
       "      <td>0</td>\n",
       "      <td>0</td>\n",
       "      <td>0</td>\n",
       "      <td>1</td>\n",
       "    </tr>\n",
       "    <tr>\n",
       "      <th>3</th>\n",
       "      <td>10004</td>\n",
       "      <td>45</td>\n",
       "      <td>1</td>\n",
       "      <td>0</td>\n",
       "      <td>2</td>\n",
       "      <td>873.25</td>\n",
       "      <td>34.0</td>\n",
       "      <td>0</td>\n",
       "      <td>0</td>\n",
       "      <td>0</td>\n",
       "      <td>0</td>\n",
       "      <td>1</td>\n",
       "      <td>1</td>\n",
       "      <td>0</td>\n",
       "    </tr>\n",
       "    <tr>\n",
       "      <th>4</th>\n",
       "      <td>10005</td>\n",
       "      <td>21</td>\n",
       "      <td>0</td>\n",
       "      <td>0</td>\n",
       "      <td>1</td>\n",
       "      <td>926.75</td>\n",
       "      <td>38.0</td>\n",
       "      <td>0</td>\n",
       "      <td>0</td>\n",
       "      <td>0</td>\n",
       "      <td>1</td>\n",
       "      <td>0</td>\n",
       "      <td>1</td>\n",
       "      <td>0</td>\n",
       "    </tr>\n",
       "  </tbody>\n",
       "</table>\n",
       "</div>"
      ],
      "text/plain": [
       "   ClientID  Age  Sex  HeldLoanPreviously  NumberProducts  LastTXNAmount  \\\n",
       "0     10001   59    1                   0               4          12.59   \n",
       "1     10002   27    1                   0               4          30.00   \n",
       "2     10003   58    0                   0               2        1003.01   \n",
       "3     10004   45    1                   0               2         873.25   \n",
       "4     10005   21    0                   0               1         926.75   \n",
       "\n",
       "   AverageNumbCA  IncomeGroup_0_10000  IncomeGroup_sup_100000  \\\n",
       "0           22.0                    0                       0   \n",
       "1           11.0                    0                       0   \n",
       "2            9.0                    0                       0   \n",
       "3           34.0                    0                       0   \n",
       "4           38.0                    0                       0   \n",
       "\n",
       "   IncomeGroup_10001_40000  IncomeGroup_40001_60000  IncomeGroup_60001_100000  \\\n",
       "0                        1                        0                         0   \n",
       "1                        1                        0                         0   \n",
       "2                        1                        0                         0   \n",
       "3                        0                        0                         1   \n",
       "4                        0                        1                         0   \n",
       "\n",
       "   Population_LargeSize  Population_NormalSize  \n",
       "0                     1                      0  \n",
       "1                     1                      0  \n",
       "2                     0                      1  \n",
       "3                     1                      0  \n",
       "4                     1                      0  "
      ]
     },
     "execution_count": 85,
     "metadata": {},
     "output_type": "execute_result"
    }
   ],
   "source": [
    "IncomGroup_Dummy = pd.get_dummies(df_test['IncomeGroup'], prefix='IncomeGroup')\n",
    "Population_Dummy = pd.get_dummies(df_test['Population_class'], prefix='Population')\n",
    "\n",
    "IncomGroup_Dummy = IncomGroup_Dummy.rename(columns={\n",
    "        'IncomeGroup_0 - 10000':'IncomeGroup_0_10000',\n",
    "        'IncomeGroup_100000+':'IncomeGroup_sup_100000',\n",
    "        'IncomeGroup_10001 - 40000':'IncomeGroup_10001_40000',\n",
    "        'IncomeGroup_40001 - 60000':'IncomeGroup_40001_60000',\n",
    "        'IncomeGroup_60001 - 100000':'IncomeGroup_60001_100000'\n",
    "    })\n",
    "df_test = pd.concat([df_test, IncomGroup_Dummy], axis=1)\n",
    "df_test = pd.concat([df_test, Population_Dummy], axis=1)\n",
    "df_test.drop('IncomeGroup',axis=1,inplace=True)\n",
    "df_test.drop('Population_class',axis=1,inplace=True)\n",
    "df_test.head()"
   ]
  },
  {
   "cell_type": "markdown",
   "metadata": {},
   "source": [
    "###  Sauvegarde du fichier train\n",
    "df_train.to_csv('train_data.csv')"
   ]
  },
  {
   "cell_type": "markdown",
   "metadata": {},
   "source": [
    "###  Sauvegarde du fichier test\n",
    "df_test.to_csv('test_data.csv')"
   ]
  },
  {
   "cell_type": "markdown",
   "metadata": {},
   "source": [
    "# 3. Modelling"
   ]
  },
  {
   "cell_type": "code",
   "execution_count": 87,
   "metadata": {
    "collapsed": false
   },
   "outputs": [],
   "source": [
    "from sklearn.grid_search import GridSearchCV\n",
    "from sklearn.cross_validation import StratifiedKFold, cross_val_score, train_test_split"
   ]
  },
  {
   "cell_type": "code",
   "execution_count": 88,
   "metadata": {
    "collapsed": false
   },
   "outputs": [],
   "source": [
    "X = df_train.drop('LoanFlag',axis=1)\n",
    "y = df_train.LoanFlag\n",
    "X = X.drop('ClientID',axis=1)"
   ]
  },
  {
   "cell_type": "code",
   "execution_count": 89,
   "metadata": {
    "collapsed": false
   },
   "outputs": [
    {
     "data": {
      "text/html": [
       "<div>\n",
       "<table border=\"1\" class=\"dataframe\">\n",
       "  <thead>\n",
       "    <tr style=\"text-align: right;\">\n",
       "      <th></th>\n",
       "      <th>Age</th>\n",
       "      <th>Sex</th>\n",
       "      <th>HeldLoanPreviously</th>\n",
       "      <th>NumberProducts</th>\n",
       "      <th>LastTXNAmount</th>\n",
       "      <th>AverageNumbCA</th>\n",
       "      <th>IncomeGroup_0_10000</th>\n",
       "      <th>IncomeGroup_sup_100000</th>\n",
       "      <th>IncomeGroup_10001_40000</th>\n",
       "      <th>IncomeGroup_40001_60000</th>\n",
       "      <th>IncomeGroup_60001_100000</th>\n",
       "      <th>Population_LargeSize</th>\n",
       "      <th>Population_NormalSize</th>\n",
       "    </tr>\n",
       "  </thead>\n",
       "  <tbody>\n",
       "    <tr>\n",
       "      <th>0</th>\n",
       "      <td>36</td>\n",
       "      <td>1</td>\n",
       "      <td>1</td>\n",
       "      <td>4</td>\n",
       "      <td>0.00</td>\n",
       "      <td>58.0</td>\n",
       "      <td>0</td>\n",
       "      <td>0</td>\n",
       "      <td>1</td>\n",
       "      <td>0</td>\n",
       "      <td>0</td>\n",
       "      <td>1</td>\n",
       "      <td>0</td>\n",
       "    </tr>\n",
       "    <tr>\n",
       "      <th>1</th>\n",
       "      <td>43</td>\n",
       "      <td>1</td>\n",
       "      <td>0</td>\n",
       "      <td>4</td>\n",
       "      <td>83.66</td>\n",
       "      <td>2663.0</td>\n",
       "      <td>1</td>\n",
       "      <td>0</td>\n",
       "      <td>0</td>\n",
       "      <td>0</td>\n",
       "      <td>0</td>\n",
       "      <td>0</td>\n",
       "      <td>1</td>\n",
       "    </tr>\n",
       "  </tbody>\n",
       "</table>\n",
       "</div>"
      ],
      "text/plain": [
       "   Age  Sex  HeldLoanPreviously  NumberProducts  LastTXNAmount  AverageNumbCA  \\\n",
       "0   36    1                   1               4           0.00           58.0   \n",
       "1   43    1                   0               4          83.66         2663.0   \n",
       "\n",
       "   IncomeGroup_0_10000  IncomeGroup_sup_100000  IncomeGroup_10001_40000  \\\n",
       "0                    0                       0                        1   \n",
       "1                    1                       0                        0   \n",
       "\n",
       "   IncomeGroup_40001_60000  IncomeGroup_60001_100000  Population_LargeSize  \\\n",
       "0                        0                         0                     1   \n",
       "1                        0                         0                     0   \n",
       "\n",
       "   Population_NormalSize  \n",
       "0                      0  \n",
       "1                      1  "
      ]
     },
     "execution_count": 89,
     "metadata": {},
     "output_type": "execute_result"
    }
   ],
   "source": [
    "X.head(2)"
   ]
  },
  {
   "cell_type": "markdown",
   "metadata": {},
   "source": [
    "### 3.1. Split the data set into training and testing data sets for cross validation purpose"
   ]
  },
  {
   "cell_type": "code",
   "execution_count": 92,
   "metadata": {
    "collapsed": false
   },
   "outputs": [],
   "source": [
    "X_train, X_test, y_train, y_test = train_test_split(X, y, test_size=0.3,  random_state=42)"
   ]
  },
  {
   "cell_type": "code",
   "execution_count": 93,
   "metadata": {
    "collapsed": false
   },
   "outputs": [
    {
     "name": "stdout",
     "output_type": "stream",
     "text": [
      "140\n",
      "6848\n"
     ]
    }
   ],
   "source": [
    "print(sum(y_train==1))\n",
    "print(sum(y_train==0))"
   ]
  },
  {
   "cell_type": "markdown",
   "metadata": {},
   "source": [
    "### 3.1. Grid search to find the best hyperparameters\n",
    "\n",
    "- Classifier: ExtraTreeClassifier (Extremely Randomized Trees)\n",
    "- GridSearch parameters:\n",
    "    - cross-validation splitting strategy: Stratified K-Fold\n",
    "    - Scoring: Area Under the Curve (AUC)\n",
    "    - class_weight: to handle the unbalanced classes issue"
   ]
  },
  {
   "cell_type": "code",
   "execution_count": 95,
   "metadata": {
    "collapsed": false
   },
   "outputs": [
    {
     "name": "stdout",
     "output_type": "stream",
     "text": [
      "Fitting 5 folds for each of 36 candidates, totalling 180 fits\n"
     ]
    },
    {
     "name": "stderr",
     "output_type": "stream",
     "text": [
      "[Parallel(n_jobs=1)]: Done 180 out of 180 | elapsed:  5.8min finished\n"
     ]
    },
    {
     "data": {
      "text/plain": [
       "GridSearchCV(cv=sklearn.cross_validation.StratifiedKFold(labels=[0 0 ..., 0 0], n_folds=5, shuffle=False, random_state=None),\n",
       "       error_score='raise',\n",
       "       estimator=ExtraTreesClassifier(bootstrap=True, class_weight='balanced',\n",
       "           criterion='gini', max_depth=None, max_features='auto',\n",
       "           max_leaf_nodes=None, min_impurity_split=1e-07,\n",
       "           min_samples_leaf=1, min_samples_split=2,\n",
       "           min_weight_fraction_leaf=0.0, n_estimators=1000, n_jobs=-1,\n",
       "           oob_score=False, random_state=0, verbose=0, warm_start=False),\n",
       "       fit_params={}, iid=True, n_jobs=1,\n",
       "       param_grid={'max_features': ['auto', 'sqrt', 'log2'], 'min_samples_split': [2, 10, 20], 'max_depth': [2, 5, 10, None]},\n",
       "       pre_dispatch='2*n_jobs', refit=True, scoring='roc_auc', verbose=1)"
      ]
     },
     "execution_count": 95,
     "metadata": {},
     "output_type": "execute_result"
    }
   ],
   "source": [
    "from sklearn.ensemble import ExtraTreesClassifier\n",
    "\n",
    "extra_tree_model = ExtraTreesClassifier(n_estimators=1000, \n",
    "                                        class_weight=\"balanced\", \n",
    "                                        bootstrap = True,\n",
    "                                        random_state=0,\n",
    "                                        n_jobs=-1)\n",
    "\n",
    "parameters = {\n",
    "    'max_depth':[2, 5, 10, None],\n",
    "    'min_samples_split': [2, 10,20],\n",
    "    'max_features': ['auto', 'sqrt', 'log2']\n",
    "}\n",
    "\n",
    "clf = GridSearchCV(extra_tree_model, \n",
    "                  parameters,\n",
    "                  cv=StratifiedKFold(y_train, n_folds=5),\n",
    "                  verbose=1,\n",
    "                  scoring='roc_auc')\n",
    "\n",
    "clf.fit(X_train, y_train)"
   ]
  },
  {
   "cell_type": "code",
   "execution_count": 100,
   "metadata": {
    "collapsed": false
   },
   "outputs": [
    {
     "name": "stdout",
     "output_type": "stream",
     "text": [
      "The best estimator is:\n",
      " ExtraTreesClassifier(bootstrap=True, class_weight='balanced',\n",
      "           criterion='gini', max_depth=None, max_features='auto',\n",
      "           max_leaf_nodes=None, min_impurity_split=1e-07,\n",
      "           min_samples_leaf=1, min_samples_split=20,\n",
      "           min_weight_fraction_leaf=0.0, n_estimators=1000, n_jobs=-1,\n",
      "           oob_score=False, random_state=0, verbose=0, warm_start=False)\n",
      "\n",
      "\n",
      "The best parameters ares: {'max_features': 'auto', 'min_samples_split': 20, 'max_depth': None}\n",
      "\n",
      "\n",
      "The best score obtained is: 0.9263393063247545\n"
     ]
    }
   ],
   "source": [
    "extratree_clf = clf.best_estimator_\n",
    "print('The best estimator is:\\n',extratree_clf)\n",
    "print('\\n')\n",
    "print('The best parameters ares:',clf.best_params_)\n",
    "print('\\n')\n",
    "\n",
    "print('The best score obtained is:',clf.best_score_)"
   ]
  },
  {
   "cell_type": "code",
   "execution_count": 101,
   "metadata": {
    "collapsed": true
   },
   "outputs": [],
   "source": [
    "from sklearn.metrics import classification_report"
   ]
  },
  {
   "cell_type": "code",
   "execution_count": 102,
   "metadata": {
    "collapsed": false
   },
   "outputs": [],
   "source": [
    "y_pred = extratree_clf.predict(X_test)"
   ]
  },
  {
   "cell_type": "code",
   "execution_count": 105,
   "metadata": {
    "collapsed": false
   },
   "outputs": [
    {
     "name": "stdout",
     "output_type": "stream",
     "text": [
      "             precision    recall  f1-score   support\n",
      "\n",
      "          0       0.99      0.96      0.97      2927\n",
      "          1       0.20      0.45      0.28        69\n",
      "\n",
      "avg / total       0.97      0.95      0.96      2996\n",
      "\n"
     ]
    }
   ],
   "source": [
    "print(classification_report(y_test, y_pred))"
   ]
  },
  {
   "cell_type": "markdown",
   "metadata": {},
   "source": [
    "### 3.2. Features importance\n"
   ]
  },
  {
   "cell_type": "code",
   "execution_count": 106,
   "metadata": {
    "collapsed": false
   },
   "outputs": [
    {
     "data": {
      "image/png": "[encoded data removed]",
      "text/plain": [
       "<matplotlib.figure.Figure at 0x7fa04c24cc88>"
      ]
     },
     "metadata": {},
     "output_type": "display_data"
    }
   ],
   "source": [
    "import matplotlib.pyplot as plt\n",
    "importances = extratree_clf.feature_importances_\n",
    "indices = np.argsort(importances)[::-1]\n",
    "std = np.std([tree.feature_importances_ for tree in extratree_clf.estimators_],axis=0)\n",
    "\n",
    "fig, ax = plt.subplots(1)\n",
    "\n",
    "ax.bar(range(X.shape[1]), importances[indices],color=\"k\", yerr=std[indices], align=\"center\")\n",
    "plt.xticks(range(X.shape[1]), X.columns[indices])\n",
    "plt.xlim([-1, X.shape[1]])\n",
    "ax.set_xticklabels(ax.xaxis.get_majorticklabels(), rotation=90)\n",
    "plt.title('Features importance')\n",
    "plt.show();\n"
   ]
  },
  {
   "cell_type": "markdown",
   "metadata": {},
   "source": [
    "### 3.3. Likelihood definition"
   ]
  },
  {
   "cell_type": "code",
   "execution_count": 107,
   "metadata": {
    "collapsed": false
   },
   "outputs": [
    {
     "data": {
      "text/plain": [
       "array([[ 0.76514907,  0.23485093],\n",
       "       [ 0.98971549,  0.01028451],\n",
       "       [ 1.        ,  0.        ],\n",
       "       ..., \n",
       "       [ 0.94979815,  0.05020185],\n",
       "       [ 0.80880247,  0.19119753],\n",
       "       [ 0.88547999,  0.11452001]])"
      ]
     },
     "execution_count": 107,
     "metadata": {},
     "output_type": "execute_result"
    }
   ],
   "source": [
    "y_pred_prob = extratree_clf.predict_proba(X_test)\n",
    "y_pred_prob"
   ]
  },
  {
   "cell_type": "code",
   "execution_count": 108,
   "metadata": {
    "collapsed": false
   },
   "outputs": [
    {
     "data": {
      "text/plain": [
       "(array([ 35.,  30.,  23.,  19.,  13.,  15.,   7.,   3.,   4.,   4.]),\n",
       " array([ 0.50029227,  0.53452729,  0.56876232,  0.60299734,  0.63723237,\n",
       "         0.67146739,  0.70570241,  0.73993744,  0.77417246,  0.80840748,\n",
       "         0.84264251]),\n",
       " <a list of 10 Patch objects>)"
      ]
     },
     "execution_count": 108,
     "metadata": {},
     "output_type": "execute_result"
    },
    {
     "data": {
      "image/png": "[encoded data removed]",
      "text/plain": [
       "<matplotlib.figure.Figure at 0x7fa0588fa1d0>"
      ]
     },
     "metadata": {},
     "output_type": "display_data"
    }
   ],
   "source": [
    "%matplotlib inline\n",
    "index_loan = np.where(y_pred==1)\n",
    "distrib_loan_prob = y_pred_prob[index_loan,1]\n",
    "plt.hist(distrib_loan_prob[0])"
   ]
  },
  {
   "cell_type": "markdown",
   "metadata": {},
   "source": [
    "### Since the probabilities are not very high let us define the likelihood as follows:\n",
    "\n",
    "- VeryLowLikelihood = [0.50, 0.55]\n",
    "- LowLikelihood = [0.60, 0.65]\n",
    "- MediumLikelihood = [0.65, 0.70]\n",
    "- HighLikelihood = [0.70, 0.80]\n",
    "- VeryHighLikelihood = [0.80, 1]\n",
    "\n",
    "The function **likelihoodLoan** allows encoding the probability into likelihood categories"
   ]
  },
  {
   "cell_type": "code",
   "execution_count": 109,
   "metadata": {
    "collapsed": false
   },
   "outputs": [],
   "source": [
    "def likelihoodLoan(label_predicted_proba):\n",
    "    # label_predicted_proba has as shape : (n,2) \n",
    "    # where n is the size of sample \n",
    "    # and the column are respectively the proba to not take up or to take up a loan\n",
    "    \n",
    "    n = len(label_predicted_proba)\n",
    "    group = ['' for i in range(n)]\n",
    "    \n",
    "    VeryLowLikelihood = np.where((label_predicted_proba[:,1] > 0.50) & (label_predicted_proba[:,1] < 0.55))[0]\n",
    "    LowLikelihood = np.where((label_predicted_proba[:,1] >= 0.60) & (label_predicted_proba[:,1] < 0.65))[0]\n",
    "    MediumLikelihood = np.where((label_predicted_proba[:,1] > 0.65) & (label_predicted_proba[:,1] < 0.70))[0]\n",
    "    HighLikelihood = np.where((label_predicted_proba[:,1] > 0.70) & (label_predicted_proba[:,1] < 0.80))[0]\n",
    "    VeryHighLikelihood = np.where((label_predicted_proba[:,1] > 0.80))[0]\n",
    "\n",
    "    for k in VeryLowLikelihood: group[k]='VeryLowLikelihood'\n",
    "    for k in LowLikelihood: group[k]='LowLikelihood'\n",
    "    for k in MediumLikelihood: group[k]='MediumLikelihood'\n",
    "    for k in HighLikelihood: group[k]='HighLikelihood'\n",
    "    for k in VeryHighLikelihood: group[k]='VeryHighLikelihood'\n",
    "    return group\n"
   ]
  },
  {
   "cell_type": "markdown",
   "metadata": {},
   "source": [
    "# 4. Loan Prediction of the 2000 test customers"
   ]
  },
  {
   "cell_type": "code",
   "execution_count": 110,
   "metadata": {
    "collapsed": false
   },
   "outputs": [
    {
     "data": {
      "text/plain": [
       "Index(['Age', 'Sex', 'HeldLoanPreviously', 'NumberProducts', 'LastTXNAmount',\n",
       "       'AverageNumbCA', 'IncomeGroup_0_10000', 'IncomeGroup_sup_100000',\n",
       "       'IncomeGroup_10001_40000', 'IncomeGroup_40001_60000',\n",
       "       'IncomeGroup_60001_100000', 'Population_LargeSize',\n",
       "       'Population_NormalSize'],\n",
       "      dtype='object')"
      ]
     },
     "execution_count": 110,
     "metadata": {},
     "output_type": "execute_result"
    }
   ],
   "source": [
    "X_train.columns"
   ]
  },
  {
   "cell_type": "code",
   "execution_count": 111,
   "metadata": {
    "collapsed": false
   },
   "outputs": [],
   "source": [
    "test_ClientID = df_test.ClientID"
   ]
  },
  {
   "cell_type": "code",
   "execution_count": 112,
   "metadata": {
    "collapsed": true
   },
   "outputs": [],
   "source": [
    "test_data = df_test.drop('ClientID',axis=1)"
   ]
  },
  {
   "cell_type": "code",
   "execution_count": 113,
   "metadata": {
    "collapsed": false
   },
   "outputs": [
    {
     "data": {
      "text/plain": [
       "Index(['Age', 'Sex', 'HeldLoanPreviously', 'NumberProducts', 'LastTXNAmount',\n",
       "       'AverageNumbCA', 'IncomeGroup_0_10000', 'IncomeGroup_sup_100000',\n",
       "       'IncomeGroup_10001_40000', 'IncomeGroup_40001_60000',\n",
       "       'IncomeGroup_60001_100000', 'Population_LargeSize',\n",
       "       'Population_NormalSize'],\n",
       "      dtype='object')"
      ]
     },
     "execution_count": 113,
     "metadata": {},
     "output_type": "execute_result"
    }
   ],
   "source": [
    "test_data.columns"
   ]
  },
  {
   "cell_type": "code",
   "execution_count": 114,
   "metadata": {
    "collapsed": false
   },
   "outputs": [],
   "source": [
    "y_pred = extratree_clf.predict(test_data)\n",
    "y_pred_proba = extratree_clf.predict_proba(test_data)"
   ]
  },
  {
   "cell_type": "code",
   "execution_count": 115,
   "metadata": {
    "collapsed": false
   },
   "outputs": [],
   "source": [
    "Likelihood = likelihoodLoan(y_pred_proba)"
   ]
  },
  {
   "cell_type": "code",
   "execution_count": 116,
   "metadata": {
    "collapsed": false
   },
   "outputs": [],
   "source": [
    "result = pd.DataFrame({'ClientID':test_ClientID, 'LoanFlag':y_pred,'LoanLikelihood':Likelihood})"
   ]
  },
  {
   "cell_type": "code",
   "execution_count": 117,
   "metadata": {
    "collapsed": false
   },
   "outputs": [
    {
     "data": {
      "text/html": [
       "<div>\n",
       "<table border=\"1\" class=\"dataframe\">\n",
       "  <thead>\n",
       "    <tr style=\"text-align: right;\">\n",
       "      <th></th>\n",
       "      <th>ClientID</th>\n",
       "      <th>LoanFlag</th>\n",
       "      <th>LoanLikelihood</th>\n",
       "    </tr>\n",
       "  </thead>\n",
       "  <tbody>\n",
       "    <tr>\n",
       "      <th>0</th>\n",
       "      <td>10001</td>\n",
       "      <td>0</td>\n",
       "      <td></td>\n",
       "    </tr>\n",
       "    <tr>\n",
       "      <th>1</th>\n",
       "      <td>10002</td>\n",
       "      <td>0</td>\n",
       "      <td></td>\n",
       "    </tr>\n",
       "    <tr>\n",
       "      <th>2</th>\n",
       "      <td>10003</td>\n",
       "      <td>0</td>\n",
       "      <td></td>\n",
       "    </tr>\n",
       "    <tr>\n",
       "      <th>3</th>\n",
       "      <td>10004</td>\n",
       "      <td>0</td>\n",
       "      <td></td>\n",
       "    </tr>\n",
       "    <tr>\n",
       "      <th>4</th>\n",
       "      <td>10005</td>\n",
       "      <td>0</td>\n",
       "      <td></td>\n",
       "    </tr>\n",
       "  </tbody>\n",
       "</table>\n",
       "</div>"
      ],
      "text/plain": [
       "   ClientID  LoanFlag LoanLikelihood\n",
       "0     10001         0               \n",
       "1     10002         0               \n",
       "2     10003         0               \n",
       "3     10004         0               \n",
       "4     10005         0               "
      ]
     },
     "execution_count": 117,
     "metadata": {},
     "output_type": "execute_result"
    }
   ],
   "source": [
    "result.head()"
   ]
  },
  {
   "cell_type": "code",
   "execution_count": 118,
   "metadata": {
    "collapsed": false
   },
   "outputs": [],
   "source": [
    "result.to_csv('Loan_prediction_results.csv',index=False)"
   ]
  },
  {
   "cell_type": "code",
   "execution_count": null,
   "metadata": {
    "collapsed": true
   },
   "outputs": [],
   "source": []
  }
 ],
 "metadata": {
  "anaconda-cloud": {},
  "celltoolbar": "Raw Cell Format",
  "kernelspec": {
   "display_name": "Python [default]",
   "language": "python",
   "name": "python3"
  },
  "language_info": {
   "codemirror_mode": {
    "name": "ipython",
    "version": 3
   },
   "file_extension": ".py",
   "mimetype": "text/x-python",
   "name": "python",
   "nbconvert_exporter": "python",
   "pygments_lexer": "ipython3",
   "version": "3.5.2"
  }
 },
 "nbformat": 4,
 "nbformat_minor": 2
}
